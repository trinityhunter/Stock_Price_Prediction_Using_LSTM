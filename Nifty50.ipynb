{
  "nbformat": 4,
  "nbformat_minor": 0,
  "metadata": {
    "colab": {
      "name": "Nifty50.ipynb",
      "provenance": [],
      "collapsed_sections": []
    },
    "kernelspec": {
      "name": "python3",
      "display_name": "Python 3"
    },
    "language_info": {
      "name": "python"
    }
  },
  "cells": [
    {
      "cell_type": "markdown",
      "source": [
        "#Importing Libraries"
      ],
      "metadata": {
        "id": "OjVL-YG5Sc8B"
      }
    },
    {
      "cell_type": "code",
      "execution_count": 134,
      "metadata": {
        "id": "xZXl3mG9i0LV"
      },
      "outputs": [],
      "source": [
        "import pandas as pd\n",
        "import matplotlib.pyplot as plt\n",
        "from sklearn.preprocessing import MinMaxScaler"
      ]
    },
    {
      "cell_type": "code",
      "source": [
        "df = pd.read_csv(\"/content/drive/MyDrive/CSV/^NSEI (2).csv\")"
      ],
      "metadata": {
        "id": "HspJg5ItjpJy"
      },
      "execution_count": 135,
      "outputs": []
    },
    {
      "cell_type": "code",
      "source": [
        "df.head()"
      ],
      "metadata": {
        "colab": {
          "base_uri": "https://localhost:8080/",
          "height": 206
        },
        "id": "thVmYHaqjvXv",
        "outputId": "99047677-b515-44ba-ce39-d5edb483ab2e"
      },
      "execution_count": 136,
      "outputs": [
        {
          "output_type": "execute_result",
          "data": {
            "text/plain": [
              "         Date         Open         High          Low        Close  \\\n",
              "0  2007-09-17  4518.450195  4549.049805  4482.850098  4494.649902   \n",
              "1  2007-09-18  4494.100098  4551.799805  4481.549805  4546.200195   \n",
              "2  2007-09-19  4550.250000  4739.000000  4550.250000  4732.350098   \n",
              "3  2007-09-20  4734.850098  4760.850098  4721.149902  4747.549805   \n",
              "4  2007-09-21  4752.950195  4855.700195  4733.700195  4837.549805   \n",
              "\n",
              "     Adj Close  Volume  \n",
              "0  4494.649902     0.0  \n",
              "1  4546.200195     0.0  \n",
              "2  4732.350098     0.0  \n",
              "3  4747.549805     0.0  \n",
              "4  4837.549805     0.0  "
            ],
            "text/html": [
              "\n",
              "  <div id=\"df-c0760b4f-4f88-41f1-a5b8-f05999451699\">\n",
              "    <div class=\"colab-df-container\">\n",
              "      <div>\n",
              "<style scoped>\n",
              "    .dataframe tbody tr th:only-of-type {\n",
              "        vertical-align: middle;\n",
              "    }\n",
              "\n",
              "    .dataframe tbody tr th {\n",
              "        vertical-align: top;\n",
              "    }\n",
              "\n",
              "    .dataframe thead th {\n",
              "        text-align: right;\n",
              "    }\n",
              "</style>\n",
              "<table border=\"1\" class=\"dataframe\">\n",
              "  <thead>\n",
              "    <tr style=\"text-align: right;\">\n",
              "      <th></th>\n",
              "      <th>Date</th>\n",
              "      <th>Open</th>\n",
              "      <th>High</th>\n",
              "      <th>Low</th>\n",
              "      <th>Close</th>\n",
              "      <th>Adj Close</th>\n",
              "      <th>Volume</th>\n",
              "    </tr>\n",
              "  </thead>\n",
              "  <tbody>\n",
              "    <tr>\n",
              "      <th>0</th>\n",
              "      <td>2007-09-17</td>\n",
              "      <td>4518.450195</td>\n",
              "      <td>4549.049805</td>\n",
              "      <td>4482.850098</td>\n",
              "      <td>4494.649902</td>\n",
              "      <td>4494.649902</td>\n",
              "      <td>0.0</td>\n",
              "    </tr>\n",
              "    <tr>\n",
              "      <th>1</th>\n",
              "      <td>2007-09-18</td>\n",
              "      <td>4494.100098</td>\n",
              "      <td>4551.799805</td>\n",
              "      <td>4481.549805</td>\n",
              "      <td>4546.200195</td>\n",
              "      <td>4546.200195</td>\n",
              "      <td>0.0</td>\n",
              "    </tr>\n",
              "    <tr>\n",
              "      <th>2</th>\n",
              "      <td>2007-09-19</td>\n",
              "      <td>4550.250000</td>\n",
              "      <td>4739.000000</td>\n",
              "      <td>4550.250000</td>\n",
              "      <td>4732.350098</td>\n",
              "      <td>4732.350098</td>\n",
              "      <td>0.0</td>\n",
              "    </tr>\n",
              "    <tr>\n",
              "      <th>3</th>\n",
              "      <td>2007-09-20</td>\n",
              "      <td>4734.850098</td>\n",
              "      <td>4760.850098</td>\n",
              "      <td>4721.149902</td>\n",
              "      <td>4747.549805</td>\n",
              "      <td>4747.549805</td>\n",
              "      <td>0.0</td>\n",
              "    </tr>\n",
              "    <tr>\n",
              "      <th>4</th>\n",
              "      <td>2007-09-21</td>\n",
              "      <td>4752.950195</td>\n",
              "      <td>4855.700195</td>\n",
              "      <td>4733.700195</td>\n",
              "      <td>4837.549805</td>\n",
              "      <td>4837.549805</td>\n",
              "      <td>0.0</td>\n",
              "    </tr>\n",
              "  </tbody>\n",
              "</table>\n",
              "</div>\n",
              "      <button class=\"colab-df-convert\" onclick=\"convertToInteractive('df-c0760b4f-4f88-41f1-a5b8-f05999451699')\"\n",
              "              title=\"Convert this dataframe to an interactive table.\"\n",
              "              style=\"display:none;\">\n",
              "        \n",
              "  <svg xmlns=\"http://www.w3.org/2000/svg\" height=\"24px\"viewBox=\"0 0 24 24\"\n",
              "       width=\"24px\">\n",
              "    <path d=\"M0 0h24v24H0V0z\" fill=\"none\"/>\n",
              "    <path d=\"M18.56 5.44l.94 2.06.94-2.06 2.06-.94-2.06-.94-.94-2.06-.94 2.06-2.06.94zm-11 1L8.5 8.5l.94-2.06 2.06-.94-2.06-.94L8.5 2.5l-.94 2.06-2.06.94zm10 10l.94 2.06.94-2.06 2.06-.94-2.06-.94-.94-2.06-.94 2.06-2.06.94z\"/><path d=\"M17.41 7.96l-1.37-1.37c-.4-.4-.92-.59-1.43-.59-.52 0-1.04.2-1.43.59L10.3 9.45l-7.72 7.72c-.78.78-.78 2.05 0 2.83L4 21.41c.39.39.9.59 1.41.59.51 0 1.02-.2 1.41-.59l7.78-7.78 2.81-2.81c.8-.78.8-2.07 0-2.86zM5.41 20L4 18.59l7.72-7.72 1.47 1.35L5.41 20z\"/>\n",
              "  </svg>\n",
              "      </button>\n",
              "      \n",
              "  <style>\n",
              "    .colab-df-container {\n",
              "      display:flex;\n",
              "      flex-wrap:wrap;\n",
              "      gap: 12px;\n",
              "    }\n",
              "\n",
              "    .colab-df-convert {\n",
              "      background-color: #E8F0FE;\n",
              "      border: none;\n",
              "      border-radius: 50%;\n",
              "      cursor: pointer;\n",
              "      display: none;\n",
              "      fill: #1967D2;\n",
              "      height: 32px;\n",
              "      padding: 0 0 0 0;\n",
              "      width: 32px;\n",
              "    }\n",
              "\n",
              "    .colab-df-convert:hover {\n",
              "      background-color: #E2EBFA;\n",
              "      box-shadow: 0px 1px 2px rgba(60, 64, 67, 0.3), 0px 1px 3px 1px rgba(60, 64, 67, 0.15);\n",
              "      fill: #174EA6;\n",
              "    }\n",
              "\n",
              "    [theme=dark] .colab-df-convert {\n",
              "      background-color: #3B4455;\n",
              "      fill: #D2E3FC;\n",
              "    }\n",
              "\n",
              "    [theme=dark] .colab-df-convert:hover {\n",
              "      background-color: #434B5C;\n",
              "      box-shadow: 0px 1px 3px 1px rgba(0, 0, 0, 0.15);\n",
              "      filter: drop-shadow(0px 1px 2px rgba(0, 0, 0, 0.3));\n",
              "      fill: #FFFFFF;\n",
              "    }\n",
              "  </style>\n",
              "\n",
              "      <script>\n",
              "        const buttonEl =\n",
              "          document.querySelector('#df-c0760b4f-4f88-41f1-a5b8-f05999451699 button.colab-df-convert');\n",
              "        buttonEl.style.display =\n",
              "          google.colab.kernel.accessAllowed ? 'block' : 'none';\n",
              "\n",
              "        async function convertToInteractive(key) {\n",
              "          const element = document.querySelector('#df-c0760b4f-4f88-41f1-a5b8-f05999451699');\n",
              "          const dataTable =\n",
              "            await google.colab.kernel.invokeFunction('convertToInteractive',\n",
              "                                                     [key], {});\n",
              "          if (!dataTable) return;\n",
              "\n",
              "          const docLinkHtml = 'Like what you see? Visit the ' +\n",
              "            '<a target=\"_blank\" href=https://colab.research.google.com/notebooks/data_table.ipynb>data table notebook</a>'\n",
              "            + ' to learn more about interactive tables.';\n",
              "          element.innerHTML = '';\n",
              "          dataTable['output_type'] = 'display_data';\n",
              "          await google.colab.output.renderOutput(dataTable, element);\n",
              "          const docLink = document.createElement('div');\n",
              "          docLink.innerHTML = docLinkHtml;\n",
              "          element.appendChild(docLink);\n",
              "        }\n",
              "      </script>\n",
              "    </div>\n",
              "  </div>\n",
              "  "
            ]
          },
          "metadata": {},
          "execution_count": 136
        }
      ]
    },
    {
      "cell_type": "code",
      "source": [
        "df"
      ],
      "metadata": {
        "colab": {
          "base_uri": "https://localhost:8080/",
          "height": 424
        },
        "id": "g41mklvvjws_",
        "outputId": "c6f169c9-a098-4281-c707-27b87306c9e5"
      },
      "execution_count": 137,
      "outputs": [
        {
          "output_type": "execute_result",
          "data": {
            "text/plain": [
              "            Date          Open          High           Low         Close  \\\n",
              "0     2007-09-17   4518.450195   4549.049805   4482.850098   4494.649902   \n",
              "1     2007-09-18   4494.100098   4551.799805   4481.549805   4546.200195   \n",
              "2     2007-09-19   4550.250000   4739.000000   4550.250000   4732.350098   \n",
              "3     2007-09-20   4734.850098   4760.850098   4721.149902   4747.549805   \n",
              "4     2007-09-21   4752.950195   4855.700195   4733.700195   4837.549805   \n",
              "...          ...           ...           ...           ...           ...   \n",
              "3596  2022-04-11  17740.900391  17779.050781  17650.949219  17674.949219   \n",
              "3597  2022-04-12  17584.849609  17595.300781  17442.349609  17530.300781   \n",
              "3598  2022-04-13  17599.900391  17663.650391  17457.400391  17475.650391   \n",
              "3599  2022-04-18  17183.449219  17237.750000  17067.849609  17173.650391   \n",
              "3600  2022-04-19  17258.949219  17275.650391  16824.699219  16958.650391   \n",
              "\n",
              "         Adj Close    Volume  \n",
              "0      4494.649902       0.0  \n",
              "1      4546.200195       0.0  \n",
              "2      4732.350098       0.0  \n",
              "3      4747.549805       0.0  \n",
              "4      4837.549805       0.0  \n",
              "...            ...       ...  \n",
              "3596  17674.949219  251700.0  \n",
              "3597  17530.300781  266000.0  \n",
              "3598  17475.650391  245100.0  \n",
              "3599  17173.650391  376100.0  \n",
              "3600  16958.650391  401400.0  \n",
              "\n",
              "[3601 rows x 7 columns]"
            ],
            "text/html": [
              "\n",
              "  <div id=\"df-f2e6104e-2587-4c48-8005-e0bd64fd0f46\">\n",
              "    <div class=\"colab-df-container\">\n",
              "      <div>\n",
              "<style scoped>\n",
              "    .dataframe tbody tr th:only-of-type {\n",
              "        vertical-align: middle;\n",
              "    }\n",
              "\n",
              "    .dataframe tbody tr th {\n",
              "        vertical-align: top;\n",
              "    }\n",
              "\n",
              "    .dataframe thead th {\n",
              "        text-align: right;\n",
              "    }\n",
              "</style>\n",
              "<table border=\"1\" class=\"dataframe\">\n",
              "  <thead>\n",
              "    <tr style=\"text-align: right;\">\n",
              "      <th></th>\n",
              "      <th>Date</th>\n",
              "      <th>Open</th>\n",
              "      <th>High</th>\n",
              "      <th>Low</th>\n",
              "      <th>Close</th>\n",
              "      <th>Adj Close</th>\n",
              "      <th>Volume</th>\n",
              "    </tr>\n",
              "  </thead>\n",
              "  <tbody>\n",
              "    <tr>\n",
              "      <th>0</th>\n",
              "      <td>2007-09-17</td>\n",
              "      <td>4518.450195</td>\n",
              "      <td>4549.049805</td>\n",
              "      <td>4482.850098</td>\n",
              "      <td>4494.649902</td>\n",
              "      <td>4494.649902</td>\n",
              "      <td>0.0</td>\n",
              "    </tr>\n",
              "    <tr>\n",
              "      <th>1</th>\n",
              "      <td>2007-09-18</td>\n",
              "      <td>4494.100098</td>\n",
              "      <td>4551.799805</td>\n",
              "      <td>4481.549805</td>\n",
              "      <td>4546.200195</td>\n",
              "      <td>4546.200195</td>\n",
              "      <td>0.0</td>\n",
              "    </tr>\n",
              "    <tr>\n",
              "      <th>2</th>\n",
              "      <td>2007-09-19</td>\n",
              "      <td>4550.250000</td>\n",
              "      <td>4739.000000</td>\n",
              "      <td>4550.250000</td>\n",
              "      <td>4732.350098</td>\n",
              "      <td>4732.350098</td>\n",
              "      <td>0.0</td>\n",
              "    </tr>\n",
              "    <tr>\n",
              "      <th>3</th>\n",
              "      <td>2007-09-20</td>\n",
              "      <td>4734.850098</td>\n",
              "      <td>4760.850098</td>\n",
              "      <td>4721.149902</td>\n",
              "      <td>4747.549805</td>\n",
              "      <td>4747.549805</td>\n",
              "      <td>0.0</td>\n",
              "    </tr>\n",
              "    <tr>\n",
              "      <th>4</th>\n",
              "      <td>2007-09-21</td>\n",
              "      <td>4752.950195</td>\n",
              "      <td>4855.700195</td>\n",
              "      <td>4733.700195</td>\n",
              "      <td>4837.549805</td>\n",
              "      <td>4837.549805</td>\n",
              "      <td>0.0</td>\n",
              "    </tr>\n",
              "    <tr>\n",
              "      <th>...</th>\n",
              "      <td>...</td>\n",
              "      <td>...</td>\n",
              "      <td>...</td>\n",
              "      <td>...</td>\n",
              "      <td>...</td>\n",
              "      <td>...</td>\n",
              "      <td>...</td>\n",
              "    </tr>\n",
              "    <tr>\n",
              "      <th>3596</th>\n",
              "      <td>2022-04-11</td>\n",
              "      <td>17740.900391</td>\n",
              "      <td>17779.050781</td>\n",
              "      <td>17650.949219</td>\n",
              "      <td>17674.949219</td>\n",
              "      <td>17674.949219</td>\n",
              "      <td>251700.0</td>\n",
              "    </tr>\n",
              "    <tr>\n",
              "      <th>3597</th>\n",
              "      <td>2022-04-12</td>\n",
              "      <td>17584.849609</td>\n",
              "      <td>17595.300781</td>\n",
              "      <td>17442.349609</td>\n",
              "      <td>17530.300781</td>\n",
              "      <td>17530.300781</td>\n",
              "      <td>266000.0</td>\n",
              "    </tr>\n",
              "    <tr>\n",
              "      <th>3598</th>\n",
              "      <td>2022-04-13</td>\n",
              "      <td>17599.900391</td>\n",
              "      <td>17663.650391</td>\n",
              "      <td>17457.400391</td>\n",
              "      <td>17475.650391</td>\n",
              "      <td>17475.650391</td>\n",
              "      <td>245100.0</td>\n",
              "    </tr>\n",
              "    <tr>\n",
              "      <th>3599</th>\n",
              "      <td>2022-04-18</td>\n",
              "      <td>17183.449219</td>\n",
              "      <td>17237.750000</td>\n",
              "      <td>17067.849609</td>\n",
              "      <td>17173.650391</td>\n",
              "      <td>17173.650391</td>\n",
              "      <td>376100.0</td>\n",
              "    </tr>\n",
              "    <tr>\n",
              "      <th>3600</th>\n",
              "      <td>2022-04-19</td>\n",
              "      <td>17258.949219</td>\n",
              "      <td>17275.650391</td>\n",
              "      <td>16824.699219</td>\n",
              "      <td>16958.650391</td>\n",
              "      <td>16958.650391</td>\n",
              "      <td>401400.0</td>\n",
              "    </tr>\n",
              "  </tbody>\n",
              "</table>\n",
              "<p>3601 rows × 7 columns</p>\n",
              "</div>\n",
              "      <button class=\"colab-df-convert\" onclick=\"convertToInteractive('df-f2e6104e-2587-4c48-8005-e0bd64fd0f46')\"\n",
              "              title=\"Convert this dataframe to an interactive table.\"\n",
              "              style=\"display:none;\">\n",
              "        \n",
              "  <svg xmlns=\"http://www.w3.org/2000/svg\" height=\"24px\"viewBox=\"0 0 24 24\"\n",
              "       width=\"24px\">\n",
              "    <path d=\"M0 0h24v24H0V0z\" fill=\"none\"/>\n",
              "    <path d=\"M18.56 5.44l.94 2.06.94-2.06 2.06-.94-2.06-.94-.94-2.06-.94 2.06-2.06.94zm-11 1L8.5 8.5l.94-2.06 2.06-.94-2.06-.94L8.5 2.5l-.94 2.06-2.06.94zm10 10l.94 2.06.94-2.06 2.06-.94-2.06-.94-.94-2.06-.94 2.06-2.06.94z\"/><path d=\"M17.41 7.96l-1.37-1.37c-.4-.4-.92-.59-1.43-.59-.52 0-1.04.2-1.43.59L10.3 9.45l-7.72 7.72c-.78.78-.78 2.05 0 2.83L4 21.41c.39.39.9.59 1.41.59.51 0 1.02-.2 1.41-.59l7.78-7.78 2.81-2.81c.8-.78.8-2.07 0-2.86zM5.41 20L4 18.59l7.72-7.72 1.47 1.35L5.41 20z\"/>\n",
              "  </svg>\n",
              "      </button>\n",
              "      \n",
              "  <style>\n",
              "    .colab-df-container {\n",
              "      display:flex;\n",
              "      flex-wrap:wrap;\n",
              "      gap: 12px;\n",
              "    }\n",
              "\n",
              "    .colab-df-convert {\n",
              "      background-color: #E8F0FE;\n",
              "      border: none;\n",
              "      border-radius: 50%;\n",
              "      cursor: pointer;\n",
              "      display: none;\n",
              "      fill: #1967D2;\n",
              "      height: 32px;\n",
              "      padding: 0 0 0 0;\n",
              "      width: 32px;\n",
              "    }\n",
              "\n",
              "    .colab-df-convert:hover {\n",
              "      background-color: #E2EBFA;\n",
              "      box-shadow: 0px 1px 2px rgba(60, 64, 67, 0.3), 0px 1px 3px 1px rgba(60, 64, 67, 0.15);\n",
              "      fill: #174EA6;\n",
              "    }\n",
              "\n",
              "    [theme=dark] .colab-df-convert {\n",
              "      background-color: #3B4455;\n",
              "      fill: #D2E3FC;\n",
              "    }\n",
              "\n",
              "    [theme=dark] .colab-df-convert:hover {\n",
              "      background-color: #434B5C;\n",
              "      box-shadow: 0px 1px 3px 1px rgba(0, 0, 0, 0.15);\n",
              "      filter: drop-shadow(0px 1px 2px rgba(0, 0, 0, 0.3));\n",
              "      fill: #FFFFFF;\n",
              "    }\n",
              "  </style>\n",
              "\n",
              "      <script>\n",
              "        const buttonEl =\n",
              "          document.querySelector('#df-f2e6104e-2587-4c48-8005-e0bd64fd0f46 button.colab-df-convert');\n",
              "        buttonEl.style.display =\n",
              "          google.colab.kernel.accessAllowed ? 'block' : 'none';\n",
              "\n",
              "        async function convertToInteractive(key) {\n",
              "          const element = document.querySelector('#df-f2e6104e-2587-4c48-8005-e0bd64fd0f46');\n",
              "          const dataTable =\n",
              "            await google.colab.kernel.invokeFunction('convertToInteractive',\n",
              "                                                     [key], {});\n",
              "          if (!dataTable) return;\n",
              "\n",
              "          const docLinkHtml = 'Like what you see? Visit the ' +\n",
              "            '<a target=\"_blank\" href=https://colab.research.google.com/notebooks/data_table.ipynb>data table notebook</a>'\n",
              "            + ' to learn more about interactive tables.';\n",
              "          element.innerHTML = '';\n",
              "          dataTable['output_type'] = 'display_data';\n",
              "          await google.colab.output.renderOutput(dataTable, element);\n",
              "          const docLink = document.createElement('div');\n",
              "          docLink.innerHTML = docLinkHtml;\n",
              "          element.appendChild(docLink);\n",
              "        }\n",
              "      </script>\n",
              "    </div>\n",
              "  </div>\n",
              "  "
            ]
          },
          "metadata": {},
          "execution_count": 137
        }
      ]
    },
    {
      "cell_type": "markdown",
      "source": [
        "#Data Preprocessing"
      ],
      "metadata": {
        "id": "usuu1Ij3Sjpu"
      }
    },
    {
      "cell_type": "code",
      "source": [
        "df.info()"
      ],
      "metadata": {
        "colab": {
          "base_uri": "https://localhost:8080/"
        },
        "id": "Z9gXDwgBjzgo",
        "outputId": "8b043960-8603-4254-c40b-48c55fb9a4b8"
      },
      "execution_count": 138,
      "outputs": [
        {
          "output_type": "stream",
          "name": "stdout",
          "text": [
            "<class 'pandas.core.frame.DataFrame'>\n",
            "RangeIndex: 3601 entries, 0 to 3600\n",
            "Data columns (total 7 columns):\n",
            " #   Column     Non-Null Count  Dtype  \n",
            "---  ------     --------------  -----  \n",
            " 0   Date       3601 non-null   object \n",
            " 1   Open       3571 non-null   float64\n",
            " 2   High       3571 non-null   float64\n",
            " 3   Low        3571 non-null   float64\n",
            " 4   Close      3571 non-null   float64\n",
            " 5   Adj Close  3571 non-null   float64\n",
            " 6   Volume     3571 non-null   float64\n",
            "dtypes: float64(6), object(1)\n",
            "memory usage: 197.1+ KB\n"
          ]
        }
      ]
    },
    {
      "cell_type": "code",
      "source": [
        "df.describe()"
      ],
      "metadata": {
        "colab": {
          "base_uri": "https://localhost:8080/",
          "height": 300
        },
        "id": "B_9MVw5Nk3Df",
        "outputId": "24aa82c1-5d68-4e43-e72f-d2aa2fdecd53"
      },
      "execution_count": 139,
      "outputs": [
        {
          "output_type": "execute_result",
          "data": {
            "text/plain": [
              "               Open          High           Low         Close     Adj Close  \\\n",
              "count   3571.000000   3571.000000   3571.000000   3571.000000   3571.000000   \n",
              "mean    8242.757085   8291.736266   8179.481555   8236.812672   8236.812672   \n",
              "std     3564.148151   3571.392797   3546.859430   3560.113978   3560.113978   \n",
              "min     2553.600098   2585.300049   2252.750000   2524.199951   2524.199951   \n",
              "25%     5389.975098   5427.574951   5348.550049   5386.500000   5386.500000   \n",
              "50%     7804.049805   7846.049805   7746.049805   7790.450195   7790.450195   \n",
              "75%    10594.500000  10631.475098  10530.075195  10583.649902  10583.649902   \n",
              "max    18602.349609  18604.449219  18445.300781  18477.050781  18477.050781   \n",
              "\n",
              "             Volume  \n",
              "count  3.571000e+03  \n",
              "mean   1.908289e+05  \n",
              "std    2.205500e+05  \n",
              "min    0.000000e+00  \n",
              "25%    0.000000e+00  \n",
              "50%    1.534000e+05  \n",
              "75%    2.646500e+05  \n",
              "max    1.811000e+06  "
            ],
            "text/html": [
              "\n",
              "  <div id=\"df-ad1b5c5f-07db-4fce-b170-53bb8b558c29\">\n",
              "    <div class=\"colab-df-container\">\n",
              "      <div>\n",
              "<style scoped>\n",
              "    .dataframe tbody tr th:only-of-type {\n",
              "        vertical-align: middle;\n",
              "    }\n",
              "\n",
              "    .dataframe tbody tr th {\n",
              "        vertical-align: top;\n",
              "    }\n",
              "\n",
              "    .dataframe thead th {\n",
              "        text-align: right;\n",
              "    }\n",
              "</style>\n",
              "<table border=\"1\" class=\"dataframe\">\n",
              "  <thead>\n",
              "    <tr style=\"text-align: right;\">\n",
              "      <th></th>\n",
              "      <th>Open</th>\n",
              "      <th>High</th>\n",
              "      <th>Low</th>\n",
              "      <th>Close</th>\n",
              "      <th>Adj Close</th>\n",
              "      <th>Volume</th>\n",
              "    </tr>\n",
              "  </thead>\n",
              "  <tbody>\n",
              "    <tr>\n",
              "      <th>count</th>\n",
              "      <td>3571.000000</td>\n",
              "      <td>3571.000000</td>\n",
              "      <td>3571.000000</td>\n",
              "      <td>3571.000000</td>\n",
              "      <td>3571.000000</td>\n",
              "      <td>3.571000e+03</td>\n",
              "    </tr>\n",
              "    <tr>\n",
              "      <th>mean</th>\n",
              "      <td>8242.757085</td>\n",
              "      <td>8291.736266</td>\n",
              "      <td>8179.481555</td>\n",
              "      <td>8236.812672</td>\n",
              "      <td>8236.812672</td>\n",
              "      <td>1.908289e+05</td>\n",
              "    </tr>\n",
              "    <tr>\n",
              "      <th>std</th>\n",
              "      <td>3564.148151</td>\n",
              "      <td>3571.392797</td>\n",
              "      <td>3546.859430</td>\n",
              "      <td>3560.113978</td>\n",
              "      <td>3560.113978</td>\n",
              "      <td>2.205500e+05</td>\n",
              "    </tr>\n",
              "    <tr>\n",
              "      <th>min</th>\n",
              "      <td>2553.600098</td>\n",
              "      <td>2585.300049</td>\n",
              "      <td>2252.750000</td>\n",
              "      <td>2524.199951</td>\n",
              "      <td>2524.199951</td>\n",
              "      <td>0.000000e+00</td>\n",
              "    </tr>\n",
              "    <tr>\n",
              "      <th>25%</th>\n",
              "      <td>5389.975098</td>\n",
              "      <td>5427.574951</td>\n",
              "      <td>5348.550049</td>\n",
              "      <td>5386.500000</td>\n",
              "      <td>5386.500000</td>\n",
              "      <td>0.000000e+00</td>\n",
              "    </tr>\n",
              "    <tr>\n",
              "      <th>50%</th>\n",
              "      <td>7804.049805</td>\n",
              "      <td>7846.049805</td>\n",
              "      <td>7746.049805</td>\n",
              "      <td>7790.450195</td>\n",
              "      <td>7790.450195</td>\n",
              "      <td>1.534000e+05</td>\n",
              "    </tr>\n",
              "    <tr>\n",
              "      <th>75%</th>\n",
              "      <td>10594.500000</td>\n",
              "      <td>10631.475098</td>\n",
              "      <td>10530.075195</td>\n",
              "      <td>10583.649902</td>\n",
              "      <td>10583.649902</td>\n",
              "      <td>2.646500e+05</td>\n",
              "    </tr>\n",
              "    <tr>\n",
              "      <th>max</th>\n",
              "      <td>18602.349609</td>\n",
              "      <td>18604.449219</td>\n",
              "      <td>18445.300781</td>\n",
              "      <td>18477.050781</td>\n",
              "      <td>18477.050781</td>\n",
              "      <td>1.811000e+06</td>\n",
              "    </tr>\n",
              "  </tbody>\n",
              "</table>\n",
              "</div>\n",
              "      <button class=\"colab-df-convert\" onclick=\"convertToInteractive('df-ad1b5c5f-07db-4fce-b170-53bb8b558c29')\"\n",
              "              title=\"Convert this dataframe to an interactive table.\"\n",
              "              style=\"display:none;\">\n",
              "        \n",
              "  <svg xmlns=\"http://www.w3.org/2000/svg\" height=\"24px\"viewBox=\"0 0 24 24\"\n",
              "       width=\"24px\">\n",
              "    <path d=\"M0 0h24v24H0V0z\" fill=\"none\"/>\n",
              "    <path d=\"M18.56 5.44l.94 2.06.94-2.06 2.06-.94-2.06-.94-.94-2.06-.94 2.06-2.06.94zm-11 1L8.5 8.5l.94-2.06 2.06-.94-2.06-.94L8.5 2.5l-.94 2.06-2.06.94zm10 10l.94 2.06.94-2.06 2.06-.94-2.06-.94-.94-2.06-.94 2.06-2.06.94z\"/><path d=\"M17.41 7.96l-1.37-1.37c-.4-.4-.92-.59-1.43-.59-.52 0-1.04.2-1.43.59L10.3 9.45l-7.72 7.72c-.78.78-.78 2.05 0 2.83L4 21.41c.39.39.9.59 1.41.59.51 0 1.02-.2 1.41-.59l7.78-7.78 2.81-2.81c.8-.78.8-2.07 0-2.86zM5.41 20L4 18.59l7.72-7.72 1.47 1.35L5.41 20z\"/>\n",
              "  </svg>\n",
              "      </button>\n",
              "      \n",
              "  <style>\n",
              "    .colab-df-container {\n",
              "      display:flex;\n",
              "      flex-wrap:wrap;\n",
              "      gap: 12px;\n",
              "    }\n",
              "\n",
              "    .colab-df-convert {\n",
              "      background-color: #E8F0FE;\n",
              "      border: none;\n",
              "      border-radius: 50%;\n",
              "      cursor: pointer;\n",
              "      display: none;\n",
              "      fill: #1967D2;\n",
              "      height: 32px;\n",
              "      padding: 0 0 0 0;\n",
              "      width: 32px;\n",
              "    }\n",
              "\n",
              "    .colab-df-convert:hover {\n",
              "      background-color: #E2EBFA;\n",
              "      box-shadow: 0px 1px 2px rgba(60, 64, 67, 0.3), 0px 1px 3px 1px rgba(60, 64, 67, 0.15);\n",
              "      fill: #174EA6;\n",
              "    }\n",
              "\n",
              "    [theme=dark] .colab-df-convert {\n",
              "      background-color: #3B4455;\n",
              "      fill: #D2E3FC;\n",
              "    }\n",
              "\n",
              "    [theme=dark] .colab-df-convert:hover {\n",
              "      background-color: #434B5C;\n",
              "      box-shadow: 0px 1px 3px 1px rgba(0, 0, 0, 0.15);\n",
              "      filter: drop-shadow(0px 1px 2px rgba(0, 0, 0, 0.3));\n",
              "      fill: #FFFFFF;\n",
              "    }\n",
              "  </style>\n",
              "\n",
              "      <script>\n",
              "        const buttonEl =\n",
              "          document.querySelector('#df-ad1b5c5f-07db-4fce-b170-53bb8b558c29 button.colab-df-convert');\n",
              "        buttonEl.style.display =\n",
              "          google.colab.kernel.accessAllowed ? 'block' : 'none';\n",
              "\n",
              "        async function convertToInteractive(key) {\n",
              "          const element = document.querySelector('#df-ad1b5c5f-07db-4fce-b170-53bb8b558c29');\n",
              "          const dataTable =\n",
              "            await google.colab.kernel.invokeFunction('convertToInteractive',\n",
              "                                                     [key], {});\n",
              "          if (!dataTable) return;\n",
              "\n",
              "          const docLinkHtml = 'Like what you see? Visit the ' +\n",
              "            '<a target=\"_blank\" href=https://colab.research.google.com/notebooks/data_table.ipynb>data table notebook</a>'\n",
              "            + ' to learn more about interactive tables.';\n",
              "          element.innerHTML = '';\n",
              "          dataTable['output_type'] = 'display_data';\n",
              "          await google.colab.output.renderOutput(dataTable, element);\n",
              "          const docLink = document.createElement('div');\n",
              "          docLink.innerHTML = docLinkHtml;\n",
              "          element.appendChild(docLink);\n",
              "        }\n",
              "      </script>\n",
              "    </div>\n",
              "  </div>\n",
              "  "
            ]
          },
          "metadata": {},
          "execution_count": 139
        }
      ]
    },
    {
      "cell_type": "code",
      "source": [
        "df = df.drop(['Date', 'High', 'Low', 'Adj Close'], axis = 'columns')"
      ],
      "metadata": {
        "id": "SRPBo4lJlEzf"
      },
      "execution_count": 140,
      "outputs": []
    },
    {
      "cell_type": "code",
      "source": [
        "df"
      ],
      "metadata": {
        "colab": {
          "base_uri": "https://localhost:8080/",
          "height": 424
        },
        "id": "xFaeHJrcmpR8",
        "outputId": "80fd44c6-e620-4733-a070-b152d49a113f"
      },
      "execution_count": 141,
      "outputs": [
        {
          "output_type": "execute_result",
          "data": {
            "text/plain": [
              "              Open         Close    Volume\n",
              "0      4518.450195   4494.649902       0.0\n",
              "1      4494.100098   4546.200195       0.0\n",
              "2      4550.250000   4732.350098       0.0\n",
              "3      4734.850098   4747.549805       0.0\n",
              "4      4752.950195   4837.549805       0.0\n",
              "...            ...           ...       ...\n",
              "3596  17740.900391  17674.949219  251700.0\n",
              "3597  17584.849609  17530.300781  266000.0\n",
              "3598  17599.900391  17475.650391  245100.0\n",
              "3599  17183.449219  17173.650391  376100.0\n",
              "3600  17258.949219  16958.650391  401400.0\n",
              "\n",
              "[3601 rows x 3 columns]"
            ],
            "text/html": [
              "\n",
              "  <div id=\"df-19e707b4-65c0-4522-a5d6-baee434b7f14\">\n",
              "    <div class=\"colab-df-container\">\n",
              "      <div>\n",
              "<style scoped>\n",
              "    .dataframe tbody tr th:only-of-type {\n",
              "        vertical-align: middle;\n",
              "    }\n",
              "\n",
              "    .dataframe tbody tr th {\n",
              "        vertical-align: top;\n",
              "    }\n",
              "\n",
              "    .dataframe thead th {\n",
              "        text-align: right;\n",
              "    }\n",
              "</style>\n",
              "<table border=\"1\" class=\"dataframe\">\n",
              "  <thead>\n",
              "    <tr style=\"text-align: right;\">\n",
              "      <th></th>\n",
              "      <th>Open</th>\n",
              "      <th>Close</th>\n",
              "      <th>Volume</th>\n",
              "    </tr>\n",
              "  </thead>\n",
              "  <tbody>\n",
              "    <tr>\n",
              "      <th>0</th>\n",
              "      <td>4518.450195</td>\n",
              "      <td>4494.649902</td>\n",
              "      <td>0.0</td>\n",
              "    </tr>\n",
              "    <tr>\n",
              "      <th>1</th>\n",
              "      <td>4494.100098</td>\n",
              "      <td>4546.200195</td>\n",
              "      <td>0.0</td>\n",
              "    </tr>\n",
              "    <tr>\n",
              "      <th>2</th>\n",
              "      <td>4550.250000</td>\n",
              "      <td>4732.350098</td>\n",
              "      <td>0.0</td>\n",
              "    </tr>\n",
              "    <tr>\n",
              "      <th>3</th>\n",
              "      <td>4734.850098</td>\n",
              "      <td>4747.549805</td>\n",
              "      <td>0.0</td>\n",
              "    </tr>\n",
              "    <tr>\n",
              "      <th>4</th>\n",
              "      <td>4752.950195</td>\n",
              "      <td>4837.549805</td>\n",
              "      <td>0.0</td>\n",
              "    </tr>\n",
              "    <tr>\n",
              "      <th>...</th>\n",
              "      <td>...</td>\n",
              "      <td>...</td>\n",
              "      <td>...</td>\n",
              "    </tr>\n",
              "    <tr>\n",
              "      <th>3596</th>\n",
              "      <td>17740.900391</td>\n",
              "      <td>17674.949219</td>\n",
              "      <td>251700.0</td>\n",
              "    </tr>\n",
              "    <tr>\n",
              "      <th>3597</th>\n",
              "      <td>17584.849609</td>\n",
              "      <td>17530.300781</td>\n",
              "      <td>266000.0</td>\n",
              "    </tr>\n",
              "    <tr>\n",
              "      <th>3598</th>\n",
              "      <td>17599.900391</td>\n",
              "      <td>17475.650391</td>\n",
              "      <td>245100.0</td>\n",
              "    </tr>\n",
              "    <tr>\n",
              "      <th>3599</th>\n",
              "      <td>17183.449219</td>\n",
              "      <td>17173.650391</td>\n",
              "      <td>376100.0</td>\n",
              "    </tr>\n",
              "    <tr>\n",
              "      <th>3600</th>\n",
              "      <td>17258.949219</td>\n",
              "      <td>16958.650391</td>\n",
              "      <td>401400.0</td>\n",
              "    </tr>\n",
              "  </tbody>\n",
              "</table>\n",
              "<p>3601 rows × 3 columns</p>\n",
              "</div>\n",
              "      <button class=\"colab-df-convert\" onclick=\"convertToInteractive('df-19e707b4-65c0-4522-a5d6-baee434b7f14')\"\n",
              "              title=\"Convert this dataframe to an interactive table.\"\n",
              "              style=\"display:none;\">\n",
              "        \n",
              "  <svg xmlns=\"http://www.w3.org/2000/svg\" height=\"24px\"viewBox=\"0 0 24 24\"\n",
              "       width=\"24px\">\n",
              "    <path d=\"M0 0h24v24H0V0z\" fill=\"none\"/>\n",
              "    <path d=\"M18.56 5.44l.94 2.06.94-2.06 2.06-.94-2.06-.94-.94-2.06-.94 2.06-2.06.94zm-11 1L8.5 8.5l.94-2.06 2.06-.94-2.06-.94L8.5 2.5l-.94 2.06-2.06.94zm10 10l.94 2.06.94-2.06 2.06-.94-2.06-.94-.94-2.06-.94 2.06-2.06.94z\"/><path d=\"M17.41 7.96l-1.37-1.37c-.4-.4-.92-.59-1.43-.59-.52 0-1.04.2-1.43.59L10.3 9.45l-7.72 7.72c-.78.78-.78 2.05 0 2.83L4 21.41c.39.39.9.59 1.41.59.51 0 1.02-.2 1.41-.59l7.78-7.78 2.81-2.81c.8-.78.8-2.07 0-2.86zM5.41 20L4 18.59l7.72-7.72 1.47 1.35L5.41 20z\"/>\n",
              "  </svg>\n",
              "      </button>\n",
              "      \n",
              "  <style>\n",
              "    .colab-df-container {\n",
              "      display:flex;\n",
              "      flex-wrap:wrap;\n",
              "      gap: 12px;\n",
              "    }\n",
              "\n",
              "    .colab-df-convert {\n",
              "      background-color: #E8F0FE;\n",
              "      border: none;\n",
              "      border-radius: 50%;\n",
              "      cursor: pointer;\n",
              "      display: none;\n",
              "      fill: #1967D2;\n",
              "      height: 32px;\n",
              "      padding: 0 0 0 0;\n",
              "      width: 32px;\n",
              "    }\n",
              "\n",
              "    .colab-df-convert:hover {\n",
              "      background-color: #E2EBFA;\n",
              "      box-shadow: 0px 1px 2px rgba(60, 64, 67, 0.3), 0px 1px 3px 1px rgba(60, 64, 67, 0.15);\n",
              "      fill: #174EA6;\n",
              "    }\n",
              "\n",
              "    [theme=dark] .colab-df-convert {\n",
              "      background-color: #3B4455;\n",
              "      fill: #D2E3FC;\n",
              "    }\n",
              "\n",
              "    [theme=dark] .colab-df-convert:hover {\n",
              "      background-color: #434B5C;\n",
              "      box-shadow: 0px 1px 3px 1px rgba(0, 0, 0, 0.15);\n",
              "      filter: drop-shadow(0px 1px 2px rgba(0, 0, 0, 0.3));\n",
              "      fill: #FFFFFF;\n",
              "    }\n",
              "  </style>\n",
              "\n",
              "      <script>\n",
              "        const buttonEl =\n",
              "          document.querySelector('#df-19e707b4-65c0-4522-a5d6-baee434b7f14 button.colab-df-convert');\n",
              "        buttonEl.style.display =\n",
              "          google.colab.kernel.accessAllowed ? 'block' : 'none';\n",
              "\n",
              "        async function convertToInteractive(key) {\n",
              "          const element = document.querySelector('#df-19e707b4-65c0-4522-a5d6-baee434b7f14');\n",
              "          const dataTable =\n",
              "            await google.colab.kernel.invokeFunction('convertToInteractive',\n",
              "                                                     [key], {});\n",
              "          if (!dataTable) return;\n",
              "\n",
              "          const docLinkHtml = 'Like what you see? Visit the ' +\n",
              "            '<a target=\"_blank\" href=https://colab.research.google.com/notebooks/data_table.ipynb>data table notebook</a>'\n",
              "            + ' to learn more about interactive tables.';\n",
              "          element.innerHTML = '';\n",
              "          dataTable['output_type'] = 'display_data';\n",
              "          await google.colab.output.renderOutput(dataTable, element);\n",
              "          const docLink = document.createElement('div');\n",
              "          docLink.innerHTML = docLinkHtml;\n",
              "          element.appendChild(docLink);\n",
              "        }\n",
              "      </script>\n",
              "    </div>\n",
              "  </div>\n",
              "  "
            ]
          },
          "metadata": {},
          "execution_count": 141
        }
      ]
    },
    {
      "cell_type": "code",
      "source": [
        "df = df.drop(df.index[0:1321], axis = 0)\n",
        "df.head()"
      ],
      "metadata": {
        "id": "gcNR5oOkne5h",
        "colab": {
          "base_uri": "https://localhost:8080/",
          "height": 206
        },
        "outputId": "d8219287-b27d-4240-cd5b-e2639e4cfa9d"
      },
      "execution_count": 142,
      "outputs": [
        {
          "output_type": "execute_result",
          "data": {
            "text/plain": [
              "             Open        Close    Volume\n",
              "1321  6085.750000  6082.299805  130900.0\n",
              "1322  6080.149902  6048.500000  129000.0\n",
              "1323  6052.850098  6054.299805  137000.0\n",
              "1324  6046.200195  6019.350098  185200.0\n",
              "1325  6024.500000  6074.649902  147600.0"
            ],
            "text/html": [
              "\n",
              "  <div id=\"df-ae7a0852-d5d7-404d-b192-4714ebcf04c3\">\n",
              "    <div class=\"colab-df-container\">\n",
              "      <div>\n",
              "<style scoped>\n",
              "    .dataframe tbody tr th:only-of-type {\n",
              "        vertical-align: middle;\n",
              "    }\n",
              "\n",
              "    .dataframe tbody tr th {\n",
              "        vertical-align: top;\n",
              "    }\n",
              "\n",
              "    .dataframe thead th {\n",
              "        text-align: right;\n",
              "    }\n",
              "</style>\n",
              "<table border=\"1\" class=\"dataframe\">\n",
              "  <thead>\n",
              "    <tr style=\"text-align: right;\">\n",
              "      <th></th>\n",
              "      <th>Open</th>\n",
              "      <th>Close</th>\n",
              "      <th>Volume</th>\n",
              "    </tr>\n",
              "  </thead>\n",
              "  <tbody>\n",
              "    <tr>\n",
              "      <th>1321</th>\n",
              "      <td>6085.750000</td>\n",
              "      <td>6082.299805</td>\n",
              "      <td>130900.0</td>\n",
              "    </tr>\n",
              "    <tr>\n",
              "      <th>1322</th>\n",
              "      <td>6080.149902</td>\n",
              "      <td>6048.500000</td>\n",
              "      <td>129000.0</td>\n",
              "    </tr>\n",
              "    <tr>\n",
              "      <th>1323</th>\n",
              "      <td>6052.850098</td>\n",
              "      <td>6054.299805</td>\n",
              "      <td>137000.0</td>\n",
              "    </tr>\n",
              "    <tr>\n",
              "      <th>1324</th>\n",
              "      <td>6046.200195</td>\n",
              "      <td>6019.350098</td>\n",
              "      <td>185200.0</td>\n",
              "    </tr>\n",
              "    <tr>\n",
              "      <th>1325</th>\n",
              "      <td>6024.500000</td>\n",
              "      <td>6074.649902</td>\n",
              "      <td>147600.0</td>\n",
              "    </tr>\n",
              "  </tbody>\n",
              "</table>\n",
              "</div>\n",
              "      <button class=\"colab-df-convert\" onclick=\"convertToInteractive('df-ae7a0852-d5d7-404d-b192-4714ebcf04c3')\"\n",
              "              title=\"Convert this dataframe to an interactive table.\"\n",
              "              style=\"display:none;\">\n",
              "        \n",
              "  <svg xmlns=\"http://www.w3.org/2000/svg\" height=\"24px\"viewBox=\"0 0 24 24\"\n",
              "       width=\"24px\">\n",
              "    <path d=\"M0 0h24v24H0V0z\" fill=\"none\"/>\n",
              "    <path d=\"M18.56 5.44l.94 2.06.94-2.06 2.06-.94-2.06-.94-.94-2.06-.94 2.06-2.06.94zm-11 1L8.5 8.5l.94-2.06 2.06-.94-2.06-.94L8.5 2.5l-.94 2.06-2.06.94zm10 10l.94 2.06.94-2.06 2.06-.94-2.06-.94-.94-2.06-.94 2.06-2.06.94z\"/><path d=\"M17.41 7.96l-1.37-1.37c-.4-.4-.92-.59-1.43-.59-.52 0-1.04.2-1.43.59L10.3 9.45l-7.72 7.72c-.78.78-.78 2.05 0 2.83L4 21.41c.39.39.9.59 1.41.59.51 0 1.02-.2 1.41-.59l7.78-7.78 2.81-2.81c.8-.78.8-2.07 0-2.86zM5.41 20L4 18.59l7.72-7.72 1.47 1.35L5.41 20z\"/>\n",
              "  </svg>\n",
              "      </button>\n",
              "      \n",
              "  <style>\n",
              "    .colab-df-container {\n",
              "      display:flex;\n",
              "      flex-wrap:wrap;\n",
              "      gap: 12px;\n",
              "    }\n",
              "\n",
              "    .colab-df-convert {\n",
              "      background-color: #E8F0FE;\n",
              "      border: none;\n",
              "      border-radius: 50%;\n",
              "      cursor: pointer;\n",
              "      display: none;\n",
              "      fill: #1967D2;\n",
              "      height: 32px;\n",
              "      padding: 0 0 0 0;\n",
              "      width: 32px;\n",
              "    }\n",
              "\n",
              "    .colab-df-convert:hover {\n",
              "      background-color: #E2EBFA;\n",
              "      box-shadow: 0px 1px 2px rgba(60, 64, 67, 0.3), 0px 1px 3px 1px rgba(60, 64, 67, 0.15);\n",
              "      fill: #174EA6;\n",
              "    }\n",
              "\n",
              "    [theme=dark] .colab-df-convert {\n",
              "      background-color: #3B4455;\n",
              "      fill: #D2E3FC;\n",
              "    }\n",
              "\n",
              "    [theme=dark] .colab-df-convert:hover {\n",
              "      background-color: #434B5C;\n",
              "      box-shadow: 0px 1px 3px 1px rgba(0, 0, 0, 0.15);\n",
              "      filter: drop-shadow(0px 1px 2px rgba(0, 0, 0, 0.3));\n",
              "      fill: #FFFFFF;\n",
              "    }\n",
              "  </style>\n",
              "\n",
              "      <script>\n",
              "        const buttonEl =\n",
              "          document.querySelector('#df-ae7a0852-d5d7-404d-b192-4714ebcf04c3 button.colab-df-convert');\n",
              "        buttonEl.style.display =\n",
              "          google.colab.kernel.accessAllowed ? 'block' : 'none';\n",
              "\n",
              "        async function convertToInteractive(key) {\n",
              "          const element = document.querySelector('#df-ae7a0852-d5d7-404d-b192-4714ebcf04c3');\n",
              "          const dataTable =\n",
              "            await google.colab.kernel.invokeFunction('convertToInteractive',\n",
              "                                                     [key], {});\n",
              "          if (!dataTable) return;\n",
              "\n",
              "          const docLinkHtml = 'Like what you see? Visit the ' +\n",
              "            '<a target=\"_blank\" href=https://colab.research.google.com/notebooks/data_table.ipynb>data table notebook</a>'\n",
              "            + ' to learn more about interactive tables.';\n",
              "          element.innerHTML = '';\n",
              "          dataTable['output_type'] = 'display_data';\n",
              "          await google.colab.output.renderOutput(dataTable, element);\n",
              "          const docLink = document.createElement('div');\n",
              "          docLink.innerHTML = docLinkHtml;\n",
              "          element.appendChild(docLink);\n",
              "        }\n",
              "      </script>\n",
              "    </div>\n",
              "  </div>\n",
              "  "
            ]
          },
          "metadata": {},
          "execution_count": 142
        }
      ]
    },
    {
      "cell_type": "code",
      "source": [
        "df.describe()"
      ],
      "metadata": {
        "colab": {
          "base_uri": "https://localhost:8080/",
          "height": 300
        },
        "id": "pxSak_dkpI5a",
        "outputId": "d831c6ca-08eb-4d52-9fb6-daf82bb4532d"
      },
      "execution_count": 143,
      "outputs": [
        {
          "output_type": "execute_result",
          "data": {
            "text/plain": [
              "               Open         Close        Volume\n",
              "count   2266.000000   2266.000000  2.266000e+03\n",
              "mean   10125.504878  10117.103158  3.007281e+05\n",
              "std     3147.340953   3144.290119  2.088148e+05\n",
              "min     5233.450195   5285.000000  0.000000e+00\n",
              "25%     7967.412475   7961.074829  1.593250e+05\n",
              "50%     9654.949707   9655.524903  2.195000e+05\n",
              "75%    11513.887695  11498.650391  3.785000e+05\n",
              "max    18602.349609  18477.050781  1.811000e+06"
            ],
            "text/html": [
              "\n",
              "  <div id=\"df-464f3e6c-f743-46c2-af1e-a942c379802c\">\n",
              "    <div class=\"colab-df-container\">\n",
              "      <div>\n",
              "<style scoped>\n",
              "    .dataframe tbody tr th:only-of-type {\n",
              "        vertical-align: middle;\n",
              "    }\n",
              "\n",
              "    .dataframe tbody tr th {\n",
              "        vertical-align: top;\n",
              "    }\n",
              "\n",
              "    .dataframe thead th {\n",
              "        text-align: right;\n",
              "    }\n",
              "</style>\n",
              "<table border=\"1\" class=\"dataframe\">\n",
              "  <thead>\n",
              "    <tr style=\"text-align: right;\">\n",
              "      <th></th>\n",
              "      <th>Open</th>\n",
              "      <th>Close</th>\n",
              "      <th>Volume</th>\n",
              "    </tr>\n",
              "  </thead>\n",
              "  <tbody>\n",
              "    <tr>\n",
              "      <th>count</th>\n",
              "      <td>2266.000000</td>\n",
              "      <td>2266.000000</td>\n",
              "      <td>2.266000e+03</td>\n",
              "    </tr>\n",
              "    <tr>\n",
              "      <th>mean</th>\n",
              "      <td>10125.504878</td>\n",
              "      <td>10117.103158</td>\n",
              "      <td>3.007281e+05</td>\n",
              "    </tr>\n",
              "    <tr>\n",
              "      <th>std</th>\n",
              "      <td>3147.340953</td>\n",
              "      <td>3144.290119</td>\n",
              "      <td>2.088148e+05</td>\n",
              "    </tr>\n",
              "    <tr>\n",
              "      <th>min</th>\n",
              "      <td>5233.450195</td>\n",
              "      <td>5285.000000</td>\n",
              "      <td>0.000000e+00</td>\n",
              "    </tr>\n",
              "    <tr>\n",
              "      <th>25%</th>\n",
              "      <td>7967.412475</td>\n",
              "      <td>7961.074829</td>\n",
              "      <td>1.593250e+05</td>\n",
              "    </tr>\n",
              "    <tr>\n",
              "      <th>50%</th>\n",
              "      <td>9654.949707</td>\n",
              "      <td>9655.524903</td>\n",
              "      <td>2.195000e+05</td>\n",
              "    </tr>\n",
              "    <tr>\n",
              "      <th>75%</th>\n",
              "      <td>11513.887695</td>\n",
              "      <td>11498.650391</td>\n",
              "      <td>3.785000e+05</td>\n",
              "    </tr>\n",
              "    <tr>\n",
              "      <th>max</th>\n",
              "      <td>18602.349609</td>\n",
              "      <td>18477.050781</td>\n",
              "      <td>1.811000e+06</td>\n",
              "    </tr>\n",
              "  </tbody>\n",
              "</table>\n",
              "</div>\n",
              "      <button class=\"colab-df-convert\" onclick=\"convertToInteractive('df-464f3e6c-f743-46c2-af1e-a942c379802c')\"\n",
              "              title=\"Convert this dataframe to an interactive table.\"\n",
              "              style=\"display:none;\">\n",
              "        \n",
              "  <svg xmlns=\"http://www.w3.org/2000/svg\" height=\"24px\"viewBox=\"0 0 24 24\"\n",
              "       width=\"24px\">\n",
              "    <path d=\"M0 0h24v24H0V0z\" fill=\"none\"/>\n",
              "    <path d=\"M18.56 5.44l.94 2.06.94-2.06 2.06-.94-2.06-.94-.94-2.06-.94 2.06-2.06.94zm-11 1L8.5 8.5l.94-2.06 2.06-.94-2.06-.94L8.5 2.5l-.94 2.06-2.06.94zm10 10l.94 2.06.94-2.06 2.06-.94-2.06-.94-.94-2.06-.94 2.06-2.06.94z\"/><path d=\"M17.41 7.96l-1.37-1.37c-.4-.4-.92-.59-1.43-.59-.52 0-1.04.2-1.43.59L10.3 9.45l-7.72 7.72c-.78.78-.78 2.05 0 2.83L4 21.41c.39.39.9.59 1.41.59.51 0 1.02-.2 1.41-.59l7.78-7.78 2.81-2.81c.8-.78.8-2.07 0-2.86zM5.41 20L4 18.59l7.72-7.72 1.47 1.35L5.41 20z\"/>\n",
              "  </svg>\n",
              "      </button>\n",
              "      \n",
              "  <style>\n",
              "    .colab-df-container {\n",
              "      display:flex;\n",
              "      flex-wrap:wrap;\n",
              "      gap: 12px;\n",
              "    }\n",
              "\n",
              "    .colab-df-convert {\n",
              "      background-color: #E8F0FE;\n",
              "      border: none;\n",
              "      border-radius: 50%;\n",
              "      cursor: pointer;\n",
              "      display: none;\n",
              "      fill: #1967D2;\n",
              "      height: 32px;\n",
              "      padding: 0 0 0 0;\n",
              "      width: 32px;\n",
              "    }\n",
              "\n",
              "    .colab-df-convert:hover {\n",
              "      background-color: #E2EBFA;\n",
              "      box-shadow: 0px 1px 2px rgba(60, 64, 67, 0.3), 0px 1px 3px 1px rgba(60, 64, 67, 0.15);\n",
              "      fill: #174EA6;\n",
              "    }\n",
              "\n",
              "    [theme=dark] .colab-df-convert {\n",
              "      background-color: #3B4455;\n",
              "      fill: #D2E3FC;\n",
              "    }\n",
              "\n",
              "    [theme=dark] .colab-df-convert:hover {\n",
              "      background-color: #434B5C;\n",
              "      box-shadow: 0px 1px 3px 1px rgba(0, 0, 0, 0.15);\n",
              "      filter: drop-shadow(0px 1px 2px rgba(0, 0, 0, 0.3));\n",
              "      fill: #FFFFFF;\n",
              "    }\n",
              "  </style>\n",
              "\n",
              "      <script>\n",
              "        const buttonEl =\n",
              "          document.querySelector('#df-464f3e6c-f743-46c2-af1e-a942c379802c button.colab-df-convert');\n",
              "        buttonEl.style.display =\n",
              "          google.colab.kernel.accessAllowed ? 'block' : 'none';\n",
              "\n",
              "        async function convertToInteractive(key) {\n",
              "          const element = document.querySelector('#df-464f3e6c-f743-46c2-af1e-a942c379802c');\n",
              "          const dataTable =\n",
              "            await google.colab.kernel.invokeFunction('convertToInteractive',\n",
              "                                                     [key], {});\n",
              "          if (!dataTable) return;\n",
              "\n",
              "          const docLinkHtml = 'Like what you see? Visit the ' +\n",
              "            '<a target=\"_blank\" href=https://colab.research.google.com/notebooks/data_table.ipynb>data table notebook</a>'\n",
              "            + ' to learn more about interactive tables.';\n",
              "          element.innerHTML = '';\n",
              "          dataTable['output_type'] = 'display_data';\n",
              "          await google.colab.output.renderOutput(dataTable, element);\n",
              "          const docLink = document.createElement('div');\n",
              "          docLink.innerHTML = docLinkHtml;\n",
              "          element.appendChild(docLink);\n",
              "        }\n",
              "      </script>\n",
              "    </div>\n",
              "  </div>\n",
              "  "
            ]
          },
          "metadata": {},
          "execution_count": 143
        }
      ]
    },
    {
      "cell_type": "code",
      "source": [
        "plt.rcParams['figure.figsize'] = (16, 10)\n",
        "\n",
        "fig, ax = plt.subplots()\n",
        "ax.plot(df['Close'], '#0A7388')\n",
        "\n",
        "#ax.format_ydata = price\n",
        "ax.set_title(\"Stock Price Prediction\")\n",
        "\n",
        "plt.ylabel(\"Price in Rupees\")\n",
        "plt.xlabel(\"Trading Days\")\n",
        "\n",
        "plt.show()"
      ],
      "metadata": {
        "colab": {
          "base_uri": "https://localhost:8080/",
          "height": 621
        },
        "id": "37snvCr7qBli",
        "outputId": "35726e79-ad13-4336-96bd-2cc1abd0a2f9"
      },
      "execution_count": 144,
      "outputs": [
        {
          "output_type": "display_data",
          "data": {
            "text/plain": [
              "<Figure size 1152x720 with 1 Axes>"
            ],
            "image/png": "[encoded data removed]"
          },
          "metadata": {
            "needs_background": "light"
          }
        }
      ]
    },
    {
      "cell_type": "markdown",
      "source": [
        "#Normalizing the Data"
      ],
      "metadata": {
        "id": "CRCxPuE-scra"
      }
    },
    {
      "cell_type": "code",
      "source": [
        "def normalize_data(data):\n",
        "\n",
        "  scaler = MinMaxScaler()\n",
        "  numerical = ['Open', 'Close', 'Volume']\n",
        "  data[numerical] = scaler.fit_transform(data[numerical])\n",
        "\n",
        "  return data\n",
        "\n",
        "\n",
        "df = normalize_data(df)\n",
        "\n",
        "df"
      ],
      "metadata": {
        "colab": {
          "base_uri": "https://localhost:8080/",
          "height": 424
        },
        "id": "gqHaLjZcrwCv",
        "outputId": "2430f4c3-04ba-4ba9-c103-ff22e4a0b2e8"
      },
      "execution_count": 145,
      "outputs": [
        {
          "output_type": "execute_result",
          "data": {
            "text/plain": [
              "          Open     Close    Volume\n",
              "1321  0.063752  0.060438  0.072281\n",
              "1322  0.063334  0.057876  0.071231\n",
              "1323  0.061292  0.058315  0.075649\n",
              "1324  0.060794  0.055666  0.102264\n",
              "1325  0.059171  0.059858  0.081502\n",
              "...        ...       ...       ...\n",
              "3596  0.935563  0.939198  0.138984\n",
              "3597  0.923891  0.928233  0.146880\n",
              "3598  0.925016  0.924091  0.135340\n",
              "3599  0.893866  0.901198  0.207675\n",
              "3600  0.899513  0.884900  0.221645\n",
              "\n",
              "[2280 rows x 3 columns]"
            ],
            "text/html": [
              "\n",
              "  <div id=\"df-94d1a04f-8930-4b32-a8fb-41ce2721b777\">\n",
              "    <div class=\"colab-df-container\">\n",
              "      <div>\n",
              "<style scoped>\n",
              "    .dataframe tbody tr th:only-of-type {\n",
              "        vertical-align: middle;\n",
              "    }\n",
              "\n",
              "    .dataframe tbody tr th {\n",
              "        vertical-align: top;\n",
              "    }\n",
              "\n",
              "    .dataframe thead th {\n",
              "        text-align: right;\n",
              "    }\n",
              "</style>\n",
              "<table border=\"1\" class=\"dataframe\">\n",
              "  <thead>\n",
              "    <tr style=\"text-align: right;\">\n",
              "      <th></th>\n",
              "      <th>Open</th>\n",
              "      <th>Close</th>\n",
              "      <th>Volume</th>\n",
              "    </tr>\n",
              "  </thead>\n",
              "  <tbody>\n",
              "    <tr>\n",
              "      <th>1321</th>\n",
              "      <td>0.063752</td>\n",
              "      <td>0.060438</td>\n",
              "      <td>0.072281</td>\n",
              "    </tr>\n",
              "    <tr>\n",
              "      <th>1322</th>\n",
              "      <td>0.063334</td>\n",
              "      <td>0.057876</td>\n",
              "      <td>0.071231</td>\n",
              "    </tr>\n",
              "    <tr>\n",
              "      <th>1323</th>\n",
              "      <td>0.061292</td>\n",
              "      <td>0.058315</td>\n",
              "      <td>0.075649</td>\n",
              "    </tr>\n",
              "    <tr>\n",
              "      <th>1324</th>\n",
              "      <td>0.060794</td>\n",
              "      <td>0.055666</td>\n",
              "      <td>0.102264</td>\n",
              "    </tr>\n",
              "    <tr>\n",
              "      <th>1325</th>\n",
              "      <td>0.059171</td>\n",
              "      <td>0.059858</td>\n",
              "      <td>0.081502</td>\n",
              "    </tr>\n",
              "    <tr>\n",
              "      <th>...</th>\n",
              "      <td>...</td>\n",
              "      <td>...</td>\n",
              "      <td>...</td>\n",
              "    </tr>\n",
              "    <tr>\n",
              "      <th>3596</th>\n",
              "      <td>0.935563</td>\n",
              "      <td>0.939198</td>\n",
              "      <td>0.138984</td>\n",
              "    </tr>\n",
              "    <tr>\n",
              "      <th>3597</th>\n",
              "      <td>0.923891</td>\n",
              "      <td>0.928233</td>\n",
              "      <td>0.146880</td>\n",
              "    </tr>\n",
              "    <tr>\n",
              "      <th>3598</th>\n",
              "      <td>0.925016</td>\n",
              "      <td>0.924091</td>\n",
              "      <td>0.135340</td>\n",
              "    </tr>\n",
              "    <tr>\n",
              "      <th>3599</th>\n",
              "      <td>0.893866</td>\n",
              "      <td>0.901198</td>\n",
              "      <td>0.207675</td>\n",
              "    </tr>\n",
              "    <tr>\n",
              "      <th>3600</th>\n",
              "      <td>0.899513</td>\n",
              "      <td>0.884900</td>\n",
              "      <td>0.221645</td>\n",
              "    </tr>\n",
              "  </tbody>\n",
              "</table>\n",
              "<p>2280 rows × 3 columns</p>\n",
              "</div>\n",
              "      <button class=\"colab-df-convert\" onclick=\"convertToInteractive('df-94d1a04f-8930-4b32-a8fb-41ce2721b777')\"\n",
              "              title=\"Convert this dataframe to an interactive table.\"\n",
              "              style=\"display:none;\">\n",
              "        \n",
              "  <svg xmlns=\"http://www.w3.org/2000/svg\" height=\"24px\"viewBox=\"0 0 24 24\"\n",
              "       width=\"24px\">\n",
              "    <path d=\"M0 0h24v24H0V0z\" fill=\"none\"/>\n",
              "    <path d=\"M18.56 5.44l.94 2.06.94-2.06 2.06-.94-2.06-.94-.94-2.06-.94 2.06-2.06.94zm-11 1L8.5 8.5l.94-2.06 2.06-.94-2.06-.94L8.5 2.5l-.94 2.06-2.06.94zm10 10l.94 2.06.94-2.06 2.06-.94-2.06-.94-.94-2.06-.94 2.06-2.06.94z\"/><path d=\"M17.41 7.96l-1.37-1.37c-.4-.4-.92-.59-1.43-.59-.52 0-1.04.2-1.43.59L10.3 9.45l-7.72 7.72c-.78.78-.78 2.05 0 2.83L4 21.41c.39.39.9.59 1.41.59.51 0 1.02-.2 1.41-.59l7.78-7.78 2.81-2.81c.8-.78.8-2.07 0-2.86zM5.41 20L4 18.59l7.72-7.72 1.47 1.35L5.41 20z\"/>\n",
              "  </svg>\n",
              "      </button>\n",
              "      \n",
              "  <style>\n",
              "    .colab-df-container {\n",
              "      display:flex;\n",
              "      flex-wrap:wrap;\n",
              "      gap: 12px;\n",
              "    }\n",
              "\n",
              "    .colab-df-convert {\n",
              "      background-color: #E8F0FE;\n",
              "      border: none;\n",
              "      border-radius: 50%;\n",
              "      cursor: pointer;\n",
              "      display: none;\n",
              "      fill: #1967D2;\n",
              "      height: 32px;\n",
              "      padding: 0 0 0 0;\n",
              "      width: 32px;\n",
              "    }\n",
              "\n",
              "    .colab-df-convert:hover {\n",
              "      background-color: #E2EBFA;\n",
              "      box-shadow: 0px 1px 2px rgba(60, 64, 67, 0.3), 0px 1px 3px 1px rgba(60, 64, 67, 0.15);\n",
              "      fill: #174EA6;\n",
              "    }\n",
              "\n",
              "    [theme=dark] .colab-df-convert {\n",
              "      background-color: #3B4455;\n",
              "      fill: #D2E3FC;\n",
              "    }\n",
              "\n",
              "    [theme=dark] .colab-df-convert:hover {\n",
              "      background-color: #434B5C;\n",
              "      box-shadow: 0px 1px 3px 1px rgba(0, 0, 0, 0.15);\n",
              "      filter: drop-shadow(0px 1px 2px rgba(0, 0, 0, 0.3));\n",
              "      fill: #FFFFFF;\n",
              "    }\n",
              "  </style>\n",
              "\n",
              "      <script>\n",
              "        const buttonEl =\n",
              "          document.querySelector('#df-94d1a04f-8930-4b32-a8fb-41ce2721b777 button.colab-df-convert');\n",
              "        buttonEl.style.display =\n",
              "          google.colab.kernel.accessAllowed ? 'block' : 'none';\n",
              "\n",
              "        async function convertToInteractive(key) {\n",
              "          const element = document.querySelector('#df-94d1a04f-8930-4b32-a8fb-41ce2721b777');\n",
              "          const dataTable =\n",
              "            await google.colab.kernel.invokeFunction('convertToInteractive',\n",
              "                                                     [key], {});\n",
              "          if (!dataTable) return;\n",
              "\n",
              "          const docLinkHtml = 'Like what you see? Visit the ' +\n",
              "            '<a target=\"_blank\" href=https://colab.research.google.com/notebooks/data_table.ipynb>data table notebook</a>'\n",
              "            + ' to learn more about interactive tables.';\n",
              "          element.innerHTML = '';\n",
              "          dataTable['output_type'] = 'display_data';\n",
              "          await google.colab.output.renderOutput(dataTable, element);\n",
              "          const docLink = document.createElement('div');\n",
              "          docLink.innerHTML = docLinkHtml;\n",
              "          element.appendChild(docLink);\n",
              "        }\n",
              "      </script>\n",
              "    </div>\n",
              "  </div>\n",
              "  "
            ]
          },
          "metadata": {},
          "execution_count": 145
        }
      ]
    },
    {
      "cell_type": "code",
      "source": [
        "plt.rcParams['figure.figsize'] = (16, 10)\n",
        "\n",
        "fig, ax = plt.subplots()\n",
        "ax.plot(df['Close'], '#0A7388')\n",
        "\n",
        "#ax.format_ydata = price\n",
        "ax.set_title(\"Stock Price Prediction\")\n",
        "\n",
        "plt.ylabel(\"Price in Rupees\")\n",
        "plt.xlabel(\"Trading Days\")\n",
        "\n",
        "plt.show()"
      ],
      "metadata": {
        "colab": {
          "base_uri": "https://localhost:8080/",
          "height": 621
        },
        "id": "IGmwnGFTtfaa",
        "outputId": "7d2e2df5-7d25-4787-c111-dc13455b5024"
      },
      "execution_count": 146,
      "outputs": [
        {
          "output_type": "display_data",
          "data": {
            "text/plain": [
              "<Figure size 1152x720 with 1 Axes>"
            ],
            "image/png": "[encoded data removed]"
          },
          "metadata": {
            "needs_background": "light"
          }
        }
      ]
    },
    {
      "cell_type": "markdown",
      "source": [
        "#Basic LSTM Model"
      ],
      "metadata": {
        "id": "39BtoMv3wEM9"
      }
    },
    {
      "cell_type": "code",
      "source": [
        "import math\n",
        "import pandas as pd\n",
        "import numpy as np\n",
        "from IPython.display import display\n",
        "\n",
        "from keras.layers.core import Dense, Activation, Dropout\n",
        "from keras.layers.recurrent import LSTM\n",
        "from keras.models import Sequential\n",
        "from keras.metrics import mean_squared_error\n",
        "from sklearn.model_selection import StratifiedKFold\n",
        "from sklearn.model_selection import train_test_split\n",
        "\n",
        "\n",
        "import time\n",
        "\n",
        "df"
      ],
      "metadata": {
        "colab": {
          "base_uri": "https://localhost:8080/",
          "height": 424
        },
        "id": "BTiFrEjgtmkx",
        "outputId": "9f85cd5f-304e-479a-ef8e-982344f861de"
      },
      "execution_count": 147,
      "outputs": [
        {
          "output_type": "execute_result",
          "data": {
            "text/plain": [
              "          Open     Close    Volume\n",
              "1321  0.063752  0.060438  0.072281\n",
              "1322  0.063334  0.057876  0.071231\n",
              "1323  0.061292  0.058315  0.075649\n",
              "1324  0.060794  0.055666  0.102264\n",
              "1325  0.059171  0.059858  0.081502\n",
              "...        ...       ...       ...\n",
              "3596  0.935563  0.939198  0.138984\n",
              "3597  0.923891  0.928233  0.146880\n",
              "3598  0.925016  0.924091  0.135340\n",
              "3599  0.893866  0.901198  0.207675\n",
              "3600  0.899513  0.884900  0.221645\n",
              "\n",
              "[2280 rows x 3 columns]"
            ],
            "text/html": [
              "\n",
              "  <div id=\"df-0d92e1a2-f1c5-4394-8aba-f91e6bc3ac38\">\n",
              "    <div class=\"colab-df-container\">\n",
              "      <div>\n",
              "<style scoped>\n",
              "    .dataframe tbody tr th:only-of-type {\n",
              "        vertical-align: middle;\n",
              "    }\n",
              "\n",
              "    .dataframe tbody tr th {\n",
              "        vertical-align: top;\n",
              "    }\n",
              "\n",
              "    .dataframe thead th {\n",
              "        text-align: right;\n",
              "    }\n",
              "</style>\n",
              "<table border=\"1\" class=\"dataframe\">\n",
              "  <thead>\n",
              "    <tr style=\"text-align: right;\">\n",
              "      <th></th>\n",
              "      <th>Open</th>\n",
              "      <th>Close</th>\n",
              "      <th>Volume</th>\n",
              "    </tr>\n",
              "  </thead>\n",
              "  <tbody>\n",
              "    <tr>\n",
              "      <th>1321</th>\n",
              "      <td>0.063752</td>\n",
              "      <td>0.060438</td>\n",
              "      <td>0.072281</td>\n",
              "    </tr>\n",
              "    <tr>\n",
              "      <th>1322</th>\n",
              "      <td>0.063334</td>\n",
              "      <td>0.057876</td>\n",
              "      <td>0.071231</td>\n",
              "    </tr>\n",
              "    <tr>\n",
              "      <th>1323</th>\n",
              "      <td>0.061292</td>\n",
              "      <td>0.058315</td>\n",
              "      <td>0.075649</td>\n",
              "    </tr>\n",
              "    <tr>\n",
              "      <th>1324</th>\n",
              "      <td>0.060794</td>\n",
              "      <td>0.055666</td>\n",
              "      <td>0.102264</td>\n",
              "    </tr>\n",
              "    <tr>\n",
              "      <th>1325</th>\n",
              "      <td>0.059171</td>\n",
              "      <td>0.059858</td>\n",
              "      <td>0.081502</td>\n",
              "    </tr>\n",
              "    <tr>\n",
              "      <th>...</th>\n",
              "      <td>...</td>\n",
              "      <td>...</td>\n",
              "      <td>...</td>\n",
              "    </tr>\n",
              "    <tr>\n",
              "      <th>3596</th>\n",
              "      <td>0.935563</td>\n",
              "      <td>0.939198</td>\n",
              "      <td>0.138984</td>\n",
              "    </tr>\n",
              "    <tr>\n",
              "      <th>3597</th>\n",
              "      <td>0.923891</td>\n",
              "      <td>0.928233</td>\n",
              "      <td>0.146880</td>\n",
              "    </tr>\n",
              "    <tr>\n",
              "      <th>3598</th>\n",
              "      <td>0.925016</td>\n",
              "      <td>0.924091</td>\n",
              "      <td>0.135340</td>\n",
              "    </tr>\n",
              "    <tr>\n",
              "      <th>3599</th>\n",
              "      <td>0.893866</td>\n",
              "      <td>0.901198</td>\n",
              "      <td>0.207675</td>\n",
              "    </tr>\n",
              "    <tr>\n",
              "      <th>3600</th>\n",
              "      <td>0.899513</td>\n",
              "      <td>0.884900</td>\n",
              "      <td>0.221645</td>\n",
              "    </tr>\n",
              "  </tbody>\n",
              "</table>\n",
              "<p>2280 rows × 3 columns</p>\n",
              "</div>\n",
              "      <button class=\"colab-df-convert\" onclick=\"convertToInteractive('df-0d92e1a2-f1c5-4394-8aba-f91e6bc3ac38')\"\n",
              "              title=\"Convert this dataframe to an interactive table.\"\n",
              "              style=\"display:none;\">\n",
              "        \n",
              "  <svg xmlns=\"http://www.w3.org/2000/svg\" height=\"24px\"viewBox=\"0 0 24 24\"\n",
              "       width=\"24px\">\n",
              "    <path d=\"M0 0h24v24H0V0z\" fill=\"none\"/>\n",
              "    <path d=\"M18.56 5.44l.94 2.06.94-2.06 2.06-.94-2.06-.94-.94-2.06-.94 2.06-2.06.94zm-11 1L8.5 8.5l.94-2.06 2.06-.94-2.06-.94L8.5 2.5l-.94 2.06-2.06.94zm10 10l.94 2.06.94-2.06 2.06-.94-2.06-.94-.94-2.06-.94 2.06-2.06.94z\"/><path d=\"M17.41 7.96l-1.37-1.37c-.4-.4-.92-.59-1.43-.59-.52 0-1.04.2-1.43.59L10.3 9.45l-7.72 7.72c-.78.78-.78 2.05 0 2.83L4 21.41c.39.39.9.59 1.41.59.51 0 1.02-.2 1.41-.59l7.78-7.78 2.81-2.81c.8-.78.8-2.07 0-2.86zM5.41 20L4 18.59l7.72-7.72 1.47 1.35L5.41 20z\"/>\n",
              "  </svg>\n",
              "      </button>\n",
              "      \n",
              "  <style>\n",
              "    .colab-df-container {\n",
              "      display:flex;\n",
              "      flex-wrap:wrap;\n",
              "      gap: 12px;\n",
              "    }\n",
              "\n",
              "    .colab-df-convert {\n",
              "      background-color: #E8F0FE;\n",
              "      border: none;\n",
              "      border-radius: 50%;\n",
              "      cursor: pointer;\n",
              "      display: none;\n",
              "      fill: #1967D2;\n",
              "      height: 32px;\n",
              "      padding: 0 0 0 0;\n",
              "      width: 32px;\n",
              "    }\n",
              "\n",
              "    .colab-df-convert:hover {\n",
              "      background-color: #E2EBFA;\n",
              "      box-shadow: 0px 1px 2px rgba(60, 64, 67, 0.3), 0px 1px 3px 1px rgba(60, 64, 67, 0.15);\n",
              "      fill: #174EA6;\n",
              "    }\n",
              "\n",
              "    [theme=dark] .colab-df-convert {\n",
              "      background-color: #3B4455;\n",
              "      fill: #D2E3FC;\n",
              "    }\n",
              "\n",
              "    [theme=dark] .colab-df-convert:hover {\n",
              "      background-color: #434B5C;\n",
              "      box-shadow: 0px 1px 3px 1px rgba(0, 0, 0, 0.15);\n",
              "      filter: drop-shadow(0px 1px 2px rgba(0, 0, 0, 0.3));\n",
              "      fill: #FFFFFF;\n",
              "    }\n",
              "  </style>\n",
              "\n",
              "      <script>\n",
              "        const buttonEl =\n",
              "          document.querySelector('#df-0d92e1a2-f1c5-4394-8aba-f91e6bc3ac38 button.colab-df-convert');\n",
              "        buttonEl.style.display =\n",
              "          google.colab.kernel.accessAllowed ? 'block' : 'none';\n",
              "\n",
              "        async function convertToInteractive(key) {\n",
              "          const element = document.querySelector('#df-0d92e1a2-f1c5-4394-8aba-f91e6bc3ac38');\n",
              "          const dataTable =\n",
              "            await google.colab.kernel.invokeFunction('convertToInteractive',\n",
              "                                                     [key], {});\n",
              "          if (!dataTable) return;\n",
              "\n",
              "          const docLinkHtml = 'Like what you see? Visit the ' +\n",
              "            '<a target=\"_blank\" href=https://colab.research.google.com/notebooks/data_table.ipynb>data table notebook</a>'\n",
              "            + ' to learn more about interactive tables.';\n",
              "          element.innerHTML = '';\n",
              "          dataTable['output_type'] = 'display_data';\n",
              "          await google.colab.output.renderOutput(dataTable, element);\n",
              "          const docLink = document.createElement('div');\n",
              "          docLink.innerHTML = docLinkHtml;\n",
              "          element.appendChild(docLink);\n",
              "        }\n",
              "      </script>\n",
              "    </div>\n",
              "  </div>\n",
              "  "
            ]
          },
          "metadata": {},
          "execution_count": 147
        }
      ]
    },
    {
      "cell_type": "code",
      "source": [
        "df.isnull().sum()"
      ],
      "metadata": {
        "colab": {
          "base_uri": "https://localhost:8080/"
        },
        "id": "YgEEJZnlEw-1",
        "outputId": "278c636a-483a-4a0f-de17-838ea962dd0f"
      },
      "execution_count": 148,
      "outputs": [
        {
          "output_type": "execute_result",
          "data": {
            "text/plain": [
              "Open      14\n",
              "Close     14\n",
              "Volume    14\n",
              "dtype: int64"
            ]
          },
          "metadata": {},
          "execution_count": 148
        }
      ]
    },
    {
      "cell_type": "code",
      "source": [
        "df = df.dropna(how='any',axis=0) "
      ],
      "metadata": {
        "id": "EtNrzZcsLm3x"
      },
      "execution_count": 149,
      "outputs": []
    },
    {
      "cell_type": "code",
      "source": [
        "df.isnull().sum()"
      ],
      "metadata": {
        "colab": {
          "base_uri": "https://localhost:8080/"
        },
        "id": "TegHELqULotz",
        "outputId": "aac59373-681f-423d-ec54-60f97cfcbaaa"
      },
      "execution_count": 150,
      "outputs": [
        {
          "output_type": "execute_result",
          "data": {
            "text/plain": [
              "Open      0\n",
              "Close     0\n",
              "Volume    0\n",
              "dtype: int64"
            ]
          },
          "metadata": {},
          "execution_count": 150
        }
      ]
    },
    {
      "cell_type": "code",
      "source": [
        "def train_test_split_lstm(stocks, prediction_time=1, test_data_size=450, unroll_length=50):\n",
        "    test_data_cut = test_data_size + unroll_length + 1\n",
        "\n",
        "    x_train = stocks[0:-prediction_time - test_data_cut].values\n",
        "    y_train = stocks[prediction_time:-test_data_cut]['Close'].values\n",
        "\n",
        "    x_test = stocks[0 - test_data_cut:-prediction_time].values\n",
        "    y_test = stocks[prediction_time - test_data_cut:]['Close'].values\n",
        "\n",
        "    return x_train, x_test, y_train, y_test\n",
        "\n"
      ],
      "metadata": {
        "id": "psbcIAQLwpR6"
      },
      "execution_count": 151,
      "outputs": []
    },
    {
      "cell_type": "code",
      "source": [
        "X_train, X_test,y_train, y_test = train_test_split_lstm(df, 5)"
      ],
      "metadata": {
        "id": "G1B5jWxa-Ud6"
      },
      "execution_count": 152,
      "outputs": []
    },
    {
      "cell_type": "code",
      "source": [
        "def unroll(data, sequence_length=24):\n",
        "\n",
        "    result = []\n",
        "    for index in range(len(data) - sequence_length):\n",
        "        result.append(data[index: index + sequence_length])\n",
        "    return np.asarray(result)"
      ],
      "metadata": {
        "id": "dusZI9j6-YIZ"
      },
      "execution_count": 153,
      "outputs": []
    },
    {
      "cell_type": "code",
      "source": [
        "unroll_length = 50\n",
        "X_train = unroll(X_train, unroll_length)\n",
        "X_test = unroll(X_test, unroll_length)\n",
        "y_train = y_train[-X_train.shape[0]:]\n",
        "y_test = y_test[-X_test.shape[0]:]\n",
        "\n",
        "print(\"x_train\", X_train.shape)\n",
        "print(\"y_train\", y_train.shape)\n",
        "print(\"x_test\", X_test.shape)\n",
        "print(\"y_test\", y_test.shape)"
      ],
      "metadata": {
        "colab": {
          "base_uri": "https://localhost:8080/"
        },
        "id": "ZmI9CelCxOwc",
        "outputId": "bff07734-13ea-42f9-e7eb-d0614ed94dcf"
      },
      "execution_count": 154,
      "outputs": [
        {
          "output_type": "stream",
          "name": "stdout",
          "text": [
            "x_train (1710, 50, 3)\n",
            "y_train (1710,)\n",
            "x_test (446, 50, 3)\n",
            "y_test (446,)\n"
          ]
        }
      ]
    },
    {
      "cell_type": "markdown",
      "source": [
        "#Build a basic Long-Short Term Memory model"
      ],
      "metadata": {
        "id": "Rth_JFqm_MyY"
      }
    },
    {
      "cell_type": "code",
      "source": [
        "def build_basic_model(input_dim, output_dim, return_sequences):\n",
        "    model = Sequential()\n",
        "    model.add(LSTM(\n",
        "        input_shape=(None, input_dim),\n",
        "        units=output_dim,\n",
        "        return_sequences=return_sequences))\n",
        "\n",
        "    model.add(LSTM(\n",
        "        100,\n",
        "        return_sequences=False))\n",
        "\n",
        "    model.add(Dense(\n",
        "        units=1))\n",
        "    model.add(Activation('linear'))\n",
        "\n",
        "    return model"
      ],
      "metadata": {
        "id": "FFLEUdHp96hC"
      },
      "execution_count": 155,
      "outputs": []
    },
    {
      "cell_type": "code",
      "source": [
        "model = build_basic_model(input_dim = X_train.shape[-1],output_dim = unroll_length, return_sequences=True)"
      ],
      "metadata": {
        "id": "6oxeB7Oo_vvP"
      },
      "execution_count": 156,
      "outputs": []
    },
    {
      "cell_type": "code",
      "source": [
        "start = time.time()\n",
        "model.compile(loss='mean_squared_error', optimizer='adam')\n",
        "print('compilation time : ', time.time() - start)"
      ],
      "metadata": {
        "colab": {
          "base_uri": "https://localhost:8080/"
        },
        "id": "hp_DJ9vO_0YJ",
        "outputId": "11264474-b5fd-4865-9276-abd8ccf6578d"
      },
      "execution_count": 157,
      "outputs": [
        {
          "output_type": "stream",
          "name": "stdout",
          "text": [
            "compilation time :  0.007558345794677734\n"
          ]
        }
      ]
    },
    {
      "cell_type": "code",
      "source": [
        "def standardize(train, test):\n",
        "\n",
        "\n",
        "    mean = np.mean(train, axis=0)\n",
        "    std = np.std(train, axis=0)+0.000001\n",
        "\n",
        "    X_train = (train - mean) / std\n",
        "    X_test = (test - mean) /std\n",
        "    return X_train, X_test\n",
        "\n",
        "standardize(X_train, X_test)"
      ],
      "metadata": {
        "colab": {
          "base_uri": "https://localhost:8080/"
        },
        "id": "RAQaCCePER4I",
        "outputId": "a4d07934-101d-4076-ad2d-dc4c562c057e"
      },
      "execution_count": 158,
      "outputs": [
        {
          "output_type": "execute_result",
          "data": {
            "text/plain": [
              "(array([[[-1.46385032, -1.46432493, -0.70401641],\n",
              "         [-1.46828257, -1.48383625, -0.71610383],\n",
              "         [-1.48428254, -1.48225533, -0.66030869],\n",
              "         ...,\n",
              "         [-1.78927629, -1.7705893 , -0.22397562],\n",
              "         [-1.76503103, -1.76116147, -0.85480443],\n",
              "         [-1.76515894, -1.74002637, -0.8069976 ]],\n",
              " \n",
              "        [[-1.46683847, -1.48238946, -0.71705968],\n",
              "         [-1.48284483, -1.48073746, -0.66121789],\n",
              "         [-1.48782859, -1.50092397, -0.32981793],\n",
              "         ...,\n",
              "         [-1.76256617, -1.75879528, -0.85446491],\n",
              "         [-1.76268633, -1.73755271, -0.80640094],\n",
              "         [-1.7443889 , -1.78068925, -0.6142873 ]],\n",
              " \n",
              "        [[-1.48140531, -1.47928971, -0.66214063],\n",
              "         [-1.48639202, -1.49941082, -0.33053011],\n",
              "         [-1.49940018, -1.47138518, -0.58762815],\n",
              "         ...,\n",
              "         [-1.76022361, -1.73520724, -0.80600908],\n",
              "         [-1.74193488, -1.77817915, -0.61334982],\n",
              "         [-1.79809445, -1.8337617 , -0.64855939]],\n",
              " \n",
              "        ...,\n",
              " \n",
              "        [[ 1.87712893,  1.88842825,  1.11380402],\n",
              "         [ 1.86465771,  1.88426298,  1.84363916],\n",
              "         [ 1.91658892,  1.81362861,  1.77106111],\n",
              "         ...,\n",
              "         [-0.66519209, -0.34813456,  2.74647977],\n",
              "         [-0.28081745, -0.17443817,  3.46661403],\n",
              "         [-0.01324694, -0.16534399,  3.0983357 ]],\n",
              " \n",
              "        [[ 1.86715126,  1.8867445 ,  1.84422734],\n",
              "         [ 1.91911966,  1.81598051,  1.77160137],\n",
              "         [ 1.7911688 ,  1.78441011, -1.59692774],\n",
              "         ...,\n",
              "         [-0.27970017, -0.1734648 ,  3.47162698],\n",
              "         [-0.01234243, -0.16428169,  3.10583919],\n",
              "         [-0.31705565, -0.3703614 ,  1.92858977]],\n",
              " \n",
              "        [[ 1.92163035,  1.81844105,  1.77214609],\n",
              "         [ 1.79365923,  1.78675461, -1.59839531],\n",
              "         [ 1.80346007,  1.75078532, -1.59624207],\n",
              "         ...,\n",
              "         [-0.01146892, -0.16331724,  3.11046197],\n",
              "         [-0.3158792 , -0.36911535,  1.9340245 ],\n",
              "         [-0.23969432, -0.19913952,  2.59942389]]]),\n",
              " array([[[0.19595452, 0.05513515, 4.43228739],\n",
              "         [0.00987698, 0.0892809 , 3.33447849],\n",
              "         [0.25975965, 0.23369832, 3.09165283],\n",
              "         ...,\n",
              "         [0.74182509, 0.81407057, 2.36503093],\n",
              "         [0.8393565 , 0.72444632, 3.40582826],\n",
              "         [0.68076917, 0.71531366, 4.18099679]],\n",
              " \n",
              "        [[0.01178651, 0.09121097, 3.33596593],\n",
              "         [0.2617579 , 0.23565042, 3.09298036],\n",
              "         [0.29535398, 0.23108074, 3.38100366],\n",
              "         ...,\n",
              "         [0.83945672, 0.72463064, 3.41077546],\n",
              "         [0.68105249, 0.71558663, 4.19041504],\n",
              "         [0.75810416, 0.76619599, 2.37019414]],\n",
              " \n",
              "        [[0.26374674, 0.23762546, 3.09432212],\n",
              "         [0.29736367, 0.23303217, 3.38250369],\n",
              "         [0.09631903, 0.08130335, 2.89212417],\n",
              "         ...,\n",
              "         [0.68129644, 0.71577874, 4.19621075],\n",
              "         [0.75831826, 0.76642337, 2.37640987],\n",
              "         [0.72198577, 0.72802078, 1.8229643 ]],\n",
              " \n",
              "        ...,\n",
              " \n",
              "        [[4.6873218 , 4.70055196, 0.3030616 ],\n",
              "         [4.66337785, 4.44713028, 0.62036879],\n",
              "         [4.35409433, 4.51293869, 0.6390274 ],\n",
              "         ...,\n",
              "         [4.55929049, 4.70011443, 0.23860858],\n",
              "         [4.7631856 , 4.91030985, 0.53932862],\n",
              "         [4.91302862, 4.86188998, 0.18801682]],\n",
              " \n",
              "        [[4.66675262, 4.45039914, 0.62021909],\n",
              "         [4.35740848, 4.51597365, 0.6388928 ],\n",
              "         [4.38632878, 4.42330772, 1.11282225],\n",
              "         ...,\n",
              "         [4.75972322, 4.90681983, 0.54117583],\n",
              "         [4.90952374, 4.85844644, 0.19037323],\n",
              "         [4.78471315, 4.78091589, 0.44252927]],\n",
              " \n",
              "        [[4.36068691, 4.51926366, 0.63875427],\n",
              "         [4.38965329, 4.42632   , 1.1129701 ],\n",
              "         [4.46434343, 4.41892701, 0.83649906],\n",
              "         ...,\n",
              "         [4.90592849, 4.85500195, 0.19184306],\n",
              "         [4.78132312, 4.77754493, 0.4453358 ],\n",
              "         [4.7202725 , 4.69001964, 0.33016174]]]))"
            ]
          },
          "metadata": {},
          "execution_count": 158
        }
      ]
    },
    {
      "cell_type": "code",
      "source": [
        "model.fit(X_train, y_train, epochs=10, validation_split=0.05)"
      ],
      "metadata": {
        "colab": {
          "base_uri": "https://localhost:8080/"
        },
        "id": "bwrLdGoy_3R6",
        "outputId": "b4efa374-76db-4442-c884-d1a9e0161547"
      },
      "execution_count": 199,
      "outputs": [
        {
          "output_type": "stream",
          "name": "stdout",
          "text": [
            "Epoch 1/10\n",
            "51/51 [==============================] - 11s 209ms/step - loss: 6.8887e-04 - val_loss: 0.0067\n",
            "Epoch 2/10\n",
            "51/51 [==============================] - 9s 167ms/step - loss: 7.6617e-04 - val_loss: 0.0062\n",
            "Epoch 3/10\n",
            "51/51 [==============================] - 9s 167ms/step - loss: 7.3220e-04 - val_loss: 0.0088\n",
            "Epoch 4/10\n",
            "51/51 [==============================] - 9s 168ms/step - loss: 6.7912e-04 - val_loss: 0.0077\n",
            "Epoch 5/10\n",
            "51/51 [==============================] - 8s 166ms/step - loss: 6.7206e-04 - val_loss: 0.0049\n",
            "Epoch 6/10\n",
            "51/51 [==============================] - 9s 167ms/step - loss: 8.0132e-04 - val_loss: 0.0047\n",
            "Epoch 7/10\n",
            "51/51 [==============================] - 8s 166ms/step - loss: 6.1977e-04 - val_loss: 0.0059\n",
            "Epoch 8/10\n",
            "51/51 [==============================] - 9s 167ms/step - loss: 6.2808e-04 - val_loss: 0.0052\n",
            "Epoch 9/10\n",
            "51/51 [==============================] - 9s 167ms/step - loss: 5.7978e-04 - val_loss: 0.0057\n",
            "Epoch 10/10\n",
            "51/51 [==============================] - 9s 167ms/step - loss: 5.6188e-04 - val_loss: 0.0045\n"
          ]
        },
        {
          "output_type": "execute_result",
          "data": {
            "text/plain": [
              "<keras.callbacks.History at 0x7f48f229d750>"
            ]
          },
          "metadata": {},
          "execution_count": 199
        }
      ]
    },
    {
      "cell_type": "markdown",
      "source": [
        "Making Predictions"
      ],
      "metadata": {
        "id": "uJn9zQyeAGBu"
      }
    },
    {
      "cell_type": "code",
      "source": [
        "predictions = model.predict(X_test)"
      ],
      "metadata": {
        "id": "P0HbIr8C_84p"
      },
      "execution_count": 200,
      "outputs": []
    },
    {
      "cell_type": "markdown",
      "source": [
        "Plotting the Results"
      ],
      "metadata": {
        "id": "S98pEor6ALjQ"
      }
    },
    {
      "cell_type": "code",
      "source": [
        "plt.rcParams['figure.figsize'] = (16, 10)\n",
        "fig = plt.figure()\n",
        "ax = fig.add_subplot(111)\n",
        "\n",
        "plt.ylabel(\"Price in Rupees\")\n",
        "plt.xlabel(\"Trading Days\")\n",
        "\n",
        "plt.plot(y_test, '#00FF00', label='Adjusted Close')\n",
        "plt.plot(predictions, '#0000FF', label='Predicted Close')\n",
        "\n",
        "ax.set_title(\"Actual vs Predicted Stock Price\")\n",
        "ax.legend(loc='upper left')\n",
        "\n",
        "plt.show()"
      ],
      "metadata": {
        "colab": {
          "base_uri": "https://localhost:8080/",
          "height": 621
        },
        "id": "dv0n-sLtAEKU",
        "outputId": "50d23b6e-0c26-418d-c875-6712e9c60331"
      },
      "execution_count": 201,
      "outputs": [
        {
          "output_type": "display_data",
          "data": {
            "text/plain": [
              "<Figure size 1152x720 with 1 Axes>"
            ],
            "image/png": "[encoded data removed]"
          },
          "metadata": {
            "needs_background": "light"
          }
        }
      ]
    },
    {
      "cell_type": "markdown",
      "source": [
        "Test Score"
      ],
      "metadata": {
        "id": "_2Qq8qTGMq8d"
      }
    },
    {
      "cell_type": "code",
      "source": [
        "trainScore = model.evaluate(X_train, y_train, verbose=0)\n",
        "print('Train Score: %.8f MSE (%.8f RMSE)' % (trainScore, math.sqrt(trainScore)))\n",
        "\n",
        "testScore = model.evaluate(X_test, y_test, verbose=0)\n",
        "print('Test Score: %.8f MSE (%.8f RMSE)' % (testScore, math.sqrt(testScore)))"
      ],
      "metadata": {
        "colab": {
          "base_uri": "https://localhost:8080/"
        },
        "id": "ylONCdDAMqVx",
        "outputId": "254ddc9e-72fe-422f-e1c9-0aabedad4827"
      },
      "execution_count": 202,
      "outputs": [
        {
          "output_type": "stream",
          "name": "stdout",
          "text": [
            "Train Score: 0.00055980 MSE (0.02366018 RMSE)\n",
            "Test Score: 0.00563312 MSE (0.07505411 RMSE)\n"
          ]
        }
      ]
    },
    {
      "cell_type": "code",
      "source": [
        "from sklearn.metrics import explained_variance_score\n",
        "\n",
        "explained_variance_score(y_test, predictions)"
      ],
      "metadata": {
        "colab": {
          "base_uri": "https://localhost:8080/"
        },
        "id": "GxtRqvpJNrIW",
        "outputId": "f8f203e1-4230-44c2-8921-6e2019260e38"
      },
      "execution_count": 203,
      "outputs": [
        {
          "output_type": "execute_result",
          "data": {
            "text/plain": [
              "0.9437635114444465"
            ]
          },
          "metadata": {},
          "execution_count": 203
        }
      ]
    },
    {
      "cell_type": "code",
      "source": [
        "from sklearn.metrics import max_error\n",
        "\n",
        "max_error(y_test, predictions)"
      ],
      "metadata": {
        "colab": {
          "base_uri": "https://localhost:8080/"
        },
        "id": "5mSrmx7BNv1O",
        "outputId": "3610de44-8a09-4f25-88e0-97b2f1f54495"
      },
      "execution_count": 204,
      "outputs": [
        {
          "output_type": "execute_result",
          "data": {
            "text/plain": [
              "0.16079996594344415"
            ]
          },
          "metadata": {},
          "execution_count": 204
        }
      ]
    },
    {
      "cell_type": "code",
      "source": [
        "from sklearn.metrics import r2_score\n",
        "\n",
        "r2_score(y_test, predictions)"
      ],
      "metadata": {
        "colab": {
          "base_uri": "https://localhost:8080/"
        },
        "id": "PL4OW15lOb8h",
        "outputId": "9a66fdb8-310e-4510-80bd-56170d503749"
      },
      "execution_count": 205,
      "outputs": [
        {
          "output_type": "execute_result",
          "data": {
            "text/plain": [
              "0.8167380019559851"
            ]
          },
          "metadata": {},
          "execution_count": 205
        }
      ]
    },
    {
      "cell_type": "markdown",
      "source": [
        ""
      ],
      "metadata": {
        "id": "bCA54hI7TSnR"
      }
    },
    {
      "cell_type": "markdown",
      "source": [
        "#Improved LSTM Model"
      ],
      "metadata": {
        "id": "NuM-vbQPNX3R"
      }
    },
    {
      "cell_type": "code",
      "source": [
        "def build_improved_model(input_dim, output_dim, return_sequences):\n",
        "    model = Sequential()\n",
        "    model.add(LSTM(\n",
        "        input_shape=(None, input_dim),\n",
        "        units=output_dim,\n",
        "        return_sequences=return_sequences))\n",
        "\n",
        "    model.add(Dropout(0.2))\n",
        "\n",
        "    model.add(LSTM(\n",
        "        128,\n",
        "        return_sequences=False))\n",
        "\n",
        "    model.add(Dropout(0.2))\n",
        "\n",
        "    model.add(Dense(\n",
        "        units=1))\n",
        "    model.add(Activation('linear'))\n",
        "\n",
        "    return model"
      ],
      "metadata": {
        "id": "vMRJpdsNIEvP"
      },
      "execution_count": 206,
      "outputs": []
    },
    {
      "cell_type": "code",
      "source": [
        "batch_size = 128\n",
        "epochs = 10\n",
        "\n",
        "model = build_improved_model( X_train.shape[-1],output_dim = unroll_length, return_sequences=True)\n",
        "\n",
        "start = time.time()\n",
        "\n",
        "model.compile(loss='mean_squared_error', optimizer='adam')\n",
        "print('compilation time : ', time.time() - start)"
      ],
      "metadata": {
        "id": "8mg3gjFVAOwq",
        "colab": {
          "base_uri": "https://localhost:8080/"
        },
        "outputId": "05873996-c14f-49c9-b202-4e4f5cace68e"
      },
      "execution_count": 207,
      "outputs": [
        {
          "output_type": "stream",
          "name": "stdout",
          "text": [
            "compilation time :  0.014868974685668945\n"
          ]
        }
      ]
    },
    {
      "cell_type": "code",
      "source": [
        "model.fit(X_train, y_train, batch_size=batch_size, epochs=epochs, verbose=2, validation_split=0.05)"
      ],
      "metadata": {
        "colab": {
          "base_uri": "https://localhost:8080/"
        },
        "id": "cV6B0qraICAj",
        "outputId": "b899e0e6-6a68-4ad6-ed4b-2913eda0b538"
      },
      "execution_count": 208,
      "outputs": [
        {
          "output_type": "stream",
          "name": "stdout",
          "text": [
            "Epoch 1/10\n",
            "13/13 - 9s - loss: 0.0258 - val_loss: 0.0160 - 9s/epoch - 665ms/step\n",
            "Epoch 2/10\n",
            "13/13 - 3s - loss: 0.0046 - val_loss: 0.0107 - 3s/epoch - 258ms/step\n",
            "Epoch 3/10\n",
            "13/13 - 3s - loss: 0.0019 - val_loss: 0.0075 - 3s/epoch - 260ms/step\n",
            "Epoch 4/10\n",
            "13/13 - 3s - loss: 0.0010 - val_loss: 0.0066 - 3s/epoch - 258ms/step\n",
            "Epoch 5/10\n",
            "13/13 - 4s - loss: 8.1195e-04 - val_loss: 0.0069 - 4s/epoch - 310ms/step\n",
            "Epoch 6/10\n",
            "13/13 - 3s - loss: 7.7048e-04 - val_loss: 0.0071 - 3s/epoch - 261ms/step\n",
            "Epoch 7/10\n",
            "13/13 - 3s - loss: 7.4823e-04 - val_loss: 0.0080 - 3s/epoch - 257ms/step\n",
            "Epoch 8/10\n",
            "13/13 - 3s - loss: 7.6485e-04 - val_loss: 0.0076 - 3s/epoch - 258ms/step\n",
            "Epoch 9/10\n",
            "13/13 - 3s - loss: 7.7025e-04 - val_loss: 0.0066 - 3s/epoch - 261ms/step\n",
            "Epoch 10/10\n",
            "13/13 - 3s - loss: 7.2174e-04 - val_loss: 0.0066 - 3s/epoch - 261ms/step\n"
          ]
        },
        {
          "output_type": "execute_result",
          "data": {
            "text/plain": [
              "<keras.callbacks.History at 0x7f48f22e1890>"
            ]
          },
          "metadata": {},
          "execution_count": 208
        }
      ]
    },
    {
      "cell_type": "code",
      "source": [
        "predictions = model.predict(X_test, batch_size=batch_size)"
      ],
      "metadata": {
        "id": "7K5iRdlWIfQn"
      },
      "execution_count": 209,
      "outputs": []
    },
    {
      "cell_type": "code",
      "source": [
        "plt.rcParams['figure.figsize'] = (16, 10)\n",
        "fig = plt.figure()\n",
        "ax = fig.add_subplot(111)\n",
        "\n",
        "plt.ylabel(\"Price in Rupees\")\n",
        "plt.xlabel(\"Trading Days\")\n",
        "\n",
        "plt.plot(y_test, '#00FF00', label='Adjusted Close')\n",
        "plt.plot(predictions, '#0000FF', label='Predicted Close')\n",
        "\n",
        "ax.set_title(\"Actual vs Predicted Stock Price\")\n",
        "ax.legend(loc='upper left')\n",
        "\n",
        "plt.show()"
      ],
      "metadata": {
        "colab": {
          "base_uri": "https://localhost:8080/",
          "height": 621
        },
        "id": "tDv_Dq0TItYf",
        "outputId": "0179d655-d99b-4f2f-980d-f54906329bf8"
      },
      "execution_count": 210,
      "outputs": [
        {
          "output_type": "display_data",
          "data": {
            "text/plain": [
              "<Figure size 1152x720 with 1 Axes>"
            ],
            "image/png": "[encoded data removed]"
          },
          "metadata": {
            "needs_background": "light"
          }
        }
      ]
    },
    {
      "cell_type": "code",
      "source": [
        "trainScore = model.evaluate(X_train, y_train, verbose=0)\n",
        "print('Train Score: %.8f MSE (%.8f RMSE)' % (trainScore, math.sqrt(trainScore)))\n",
        "\n",
        "testScore = model.evaluate(X_test, y_test, verbose=0)\n",
        "print('Test Score: %.8f MSE (%.8f RMSE)' % (testScore, math.sqrt(testScore)))"
      ],
      "metadata": {
        "colab": {
          "base_uri": "https://localhost:8080/"
        },
        "id": "St6cUNKRI0BQ",
        "outputId": "d4f865eb-4cc6-4752-807a-8a934a8a7825"
      },
      "execution_count": 211,
      "outputs": [
        {
          "output_type": "stream",
          "name": "stdout",
          "text": [
            "Train Score: 0.00071756 MSE (0.02678737 RMSE)\n",
            "Test Score: 0.00289859 MSE (0.05383851 RMSE)\n"
          ]
        }
      ]
    },
    {
      "cell_type": "code",
      "source": [
        "from sklearn.metrics import explained_variance_score\n",
        "\n",
        "explained_variance_score(y_test, predictions)"
      ],
      "metadata": {
        "colab": {
          "base_uri": "https://localhost:8080/"
        },
        "id": "ANZNJdxxI6hW",
        "outputId": "ed37098e-56e1-48f6-a91a-86b5301fe6d2"
      },
      "execution_count": 212,
      "outputs": [
        {
          "output_type": "execute_result",
          "data": {
            "text/plain": [
              "0.9653718928190143"
            ]
          },
          "metadata": {},
          "execution_count": 212
        }
      ]
    },
    {
      "cell_type": "code",
      "source": [
        "from sklearn.metrics import max_error\n",
        "\n",
        "max_error(y_test, predictions)"
      ],
      "metadata": {
        "colab": {
          "base_uri": "https://localhost:8080/"
        },
        "id": "41IA3wkTL_na",
        "outputId": "9acec0c9-d62e-4467-b7f4-912e62560988"
      },
      "execution_count": 213,
      "outputs": [
        {
          "output_type": "execute_result",
          "data": {
            "text/plain": [
              "0.12793567045857845"
            ]
          },
          "metadata": {},
          "execution_count": 213
        }
      ]
    },
    {
      "cell_type": "code",
      "source": [
        "from sklearn.metrics import r2_score\n",
        "\n",
        "r2_score(y_test, predictions)"
      ],
      "metadata": {
        "colab": {
          "base_uri": "https://localhost:8080/"
        },
        "id": "iGLX6s7ONCi3",
        "outputId": "42525df9-e605-48a0-b090-f90dc422a785"
      },
      "execution_count": 214,
      "outputs": [
        {
          "output_type": "execute_result",
          "data": {
            "text/plain": [
              "0.9057004615200844"
            ]
          },
          "metadata": {},
          "execution_count": 214
        }
      ]
    }
  ]
}